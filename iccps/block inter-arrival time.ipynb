{
 "cells": [
  {
   "cell_type": "code",
   "execution_count": 75,
   "metadata": {},
   "outputs": [
    {
     "name": "stdout",
     "output_type": "stream",
     "text": [
      "10.962260792349728\n",
      "7.355\n",
      "11.379208082609054\n",
      "0.007\n",
      "117.204\n"
     ]
    },
    {
     "data": {
      "image/png": "[encoded data removed]",
      "text/plain": [
       "<Figure size 432x288 with 1 Axes>"
      ]
     },
     "metadata": {
      "needs_background": "light"
     },
     "output_type": "display_data"
    },
    {
     "data": {
      "text/plain": [
       "<Figure size 432x288 with 0 Axes>"
      ]
     },
     "metadata": {},
     "output_type": "display_data"
    }
   ],
   "source": [
    "import datetime\n",
    "import numpy\n",
    "import math\n",
    "import matplotlib.pyplot as plt\n",
    "events = numpy.array([])\n",
    "events = []\n",
    "with open('miner.log') as f:\n",
    "    for line in f: \n",
    "        if \"sealed\" in line:\n",
    "#             print(line)\n",
    "            str_timestamp = line.split(\" \")[1][1:-1]\n",
    "#             print(str_timestamp)\n",
    "            timestamp = datetime.datetime.strptime(str_timestamp, '%m-%d|%H:%M:%S.%f')\n",
    "#             print(timestamp)\n",
    "            events.append(timestamp)\n",
    "\n",
    "f = numpy.vectorize(lambda x: x.total_seconds())\n",
    "    \n",
    "arr = numpy.array(events)\n",
    "blocktimes = f(numpy.diff(events))\n",
    "mean = numpy.mean(blocktimes)\n",
    "median = numpy.median(blocktimes)\n",
    "stdev = numpy.std(blocktimes)\n",
    "print(mean)\n",
    "print(median)\n",
    "print(stdev)\n",
    "print(blocktimes.min())\n",
    "print(blocktimes.max())\n",
    "\n",
    "\n",
    "# blocktimes = numpy.diff(events)\n",
    "# stdev = numpy.std(f(blocktimes))\n",
    "# print(mean.total_seconds())\n",
    "# print(stdev)\n",
    "# print(blocktimes.min().total_seconds())\n",
    "# print(blocktimes.max().total_seconds())\n",
    "\n",
    "plt.figure(9)\n",
    "plt.clf()\n",
    "plt.plot(blocktimes)\n",
    "plt.xlabel('Block #')\n",
    "plt.ylabel('dT [s]') \n",
    "plt.show()\n",
    "\n",
    "plt.savefig('interarrival.pgf', bbox_inches='tight')\n",
    "\n",
    "\n",
    "# x = numpy.linspace(0,33,100)\n",
    "# CDF =  numpy.vectorize(lambda x: 1-math.exp(-(1/mean)*x))\n",
    "# y = CDF(x)\n",
    "\n",
    "# plt.figure(10)\n",
    "# plt.plot(x,y)\n",
    "\n",
    "\n",
    "            \n"
   ]
  }
 ],
 "metadata": {
  "kernelspec": {
   "display_name": "Python 3",
   "language": "python",
   "name": "python3"
  },
  "language_info": {
   "codemirror_mode": {
    "name": "ipython",
    "version": 3
   },
   "file_extension": ".py",
   "mimetype": "text/x-python",
   "name": "python",
   "nbconvert_exporter": "python",
   "pygments_lexer": "ipython3",
   "version": "3.6.8"
  }
 },
 "nbformat": 4,
 "nbformat_minor": 2
}
