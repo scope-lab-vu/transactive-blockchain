{
  "nbformat": 4,
  "nbformat_minor": 0,
  "metadata": {
    "colab": {
      "name": "TCPS_data.ipynb",
      "provenance": [],
      "include_colab_link": true
    },
    "kernelspec": {
      "name": "python3",
      "display_name": "Python 3"
    }
  },
  "cells": [
    {
      "cell_type": "markdown",
      "metadata": {
        "id": "view-in-github",
        "colab_type": "text"
      },
      "source": [
        "<a href=\"https://colab.research.google.com/github/scope-lab-vu/transactive-blockchain/blob/master/TCPS_data.ipynb\" target=\"_parent\"><img src=\"https://colab.research.google.com/assets/colab-badge.svg\" alt=\"Open In Colab\"/></a>"
      ]
    },
    {
      "cell_type": "markdown",
      "metadata": {
        "id": "neAYkqYYkAMB",
        "colab_type": "text"
      },
      "source": [
        "To make this notebook work in Colab, the following must be done:\n",
        "\n",
        "  1. The Cplex binary installer needs to be uploaded to your Google Drive in a directory named 'ColabLibraries'\n",
        "  2. Prosumer offer data should be uploaded into a directory named 'profiles'"
      ]
    },
    {
      "cell_type": "markdown",
      "metadata": {
        "id": "0EiV1fCj-UlB",
        "colab_type": "text"
      },
      "source": [
        "Mount Google Drive to access installation files"
      ]
    },
    {
      "cell_type": "code",
      "metadata": {
        "id": "R07Fir5u6bNR",
        "colab_type": "code",
        "outputId": "aaadc880-cd20-47f2-956d-fff1ece332df",
        "colab": {
          "base_uri": "https://localhost:8080/",
          "height": 126
        }
      },
      "source": [
        "from google.colab import drive\n",
        "drive.mount('/content/gdrive')"
      ],
      "execution_count": 1,
      "outputs": [
        {
          "output_type": "stream",
          "text": [
            "Go to this URL in a browser: https://accounts.google.com/o/oauth2/auth?client_id=947318989803-6bn6qk8qdgf4n4g3pfee6491hc0brc4i.apps.googleusercontent.com&redirect_uri=urn%3aietf%3awg%3aoauth%3a2.0%3aoob&response_type=code&scope=email%20https%3a%2f%2fwww.googleapis.com%2fauth%2fdocs.test%20https%3a%2f%2fwww.googleapis.com%2fauth%2fdrive%20https%3a%2f%2fwww.googleapis.com%2fauth%2fdrive.photos.readonly%20https%3a%2f%2fwww.googleapis.com%2fauth%2fpeopleapi.readonly\n",
            "\n",
            "Enter your authorization code:\n",
            "··········\n",
            "Mounted at /content/gdrive\n"
          ],
          "name": "stdout"
        }
      ]
    },
    {
      "cell_type": "markdown",
      "metadata": {
        "id": "K7dJoeGq-Z77",
        "colab_type": "text"
      },
      "source": [
        "Install cplex from Google Drive. installer.properties included in directory for silent install"
      ]
    },
    {
      "cell_type": "code",
      "metadata": {
        "id": "wT5iseL5-emF",
        "colab_type": "code",
        "outputId": "373b71eb-24e4-4d59-b86a-e82d9dfac2a4",
        "colab": {
          "base_uri": "https://localhost:8080/",
          "height": 160
        }
      },
      "source": [
        "! chmod u+x /content/gdrive/My\\ Drive/ColabLibraries/cplex_studio129.linux-x86-64.bin\n",
        "\n",
        "!/content/gdrive/My\\ Drive/ColabLibraries/cplex_studio129.linux-x86-64.bin -f \"installer.properties\"\n"
      ],
      "execution_count": 2,
      "outputs": [
        {
          "output_type": "stream",
          "text": [
            "Preparing to install\n",
            "Extracting the JRE from the installer archive...\n",
            "Unpacking the JRE...\n",
            "Extracting the installation resources from the installer archive...\n",
            "Configuring the installer for this system's environment...\n",
            "\n",
            "Launching installer...\n",
            "\n"
          ],
          "name": "stdout"
        }
      ]
    },
    {
      "cell_type": "markdown",
      "metadata": {
        "id": "G29_4xvRSW28",
        "colab_type": "text"
      },
      "source": [
        "Install cplex python binaries"
      ]
    },
    {
      "cell_type": "code",
      "metadata": {
        "id": "abFCyfAn-qX-",
        "colab_type": "code",
        "colab": {}
      },
      "source": [
        "%%capture\n",
        "! cd /opt/ibm/ILOG/CPLEX_Studio129/python/; python3 setup.py install;"
      ],
      "execution_count": 0,
      "outputs": []
    },
    {
      "cell_type": "markdown",
      "metadata": {
        "id": "Kttz1EBCSbaS",
        "colab_type": "text"
      },
      "source": [
        "Clone transax repo"
      ]
    },
    {
      "cell_type": "code",
      "metadata": {
        "id": "jA3w7cFotl83",
        "colab_type": "code",
        "outputId": "92b337b9-64be-4129-f8d1-5daf67a2321e",
        "colab": {
          "base_uri": "https://localhost:8080/",
          "height": 196
        }
      },
      "source": [
        "from getpass import getpass\n",
        "import os\n",
        "\n",
        "user = getpass('GitHub User')\n",
        "password = getpass('GitHub password')\n",
        "os.environ['GITHUB_AUTH'] = user + ':' + password\n",
        "\n",
        "!git clone https://$GITHUB_AUTH@github.com/scope-lab-vu/transactive-blockchain.git\n"
      ],
      "execution_count": 4,
      "outputs": [
        {
          "output_type": "stream",
          "text": [
            "GitHub User··········\n",
            "GitHub password··········\n",
            "Cloning into 'transactive-blockchain'...\n",
            "remote: Enumerating objects: 31, done.\u001b[K\n",
            "remote: Counting objects: 100% (31/31), done.\u001b[K\n",
            "remote: Compressing objects: 100% (30/30), done.\u001b[K\n",
            "remote: Total 4771 (delta 16), reused 4 (delta 1), pack-reused 4740\u001b[K\n",
            "Receiving objects: 100% (4771/4771), 139.49 MiB | 34.45 MiB/s, done.\n",
            "Resolving deltas: 100% (2184/2184), done.\n",
            "Checking out files: 100% (2097/2097), done.\n"
          ],
          "name": "stdout"
        }
      ]
    },
    {
      "cell_type": "markdown",
      "metadata": {
        "id": "HAanJbMy-xsh",
        "colab_type": "text"
      },
      "source": [
        "Install transax library"
      ]
    },
    {
      "cell_type": "code",
      "metadata": {
        "id": "-SDoJKEiStfg",
        "colab_type": "code",
        "colab": {}
      },
      "source": [
        "%%capture\n",
        "! cd /content/transactive-blockchain/transax; sudo pip3 install ."
      ],
      "execution_count": 0,
      "outputs": []
    },
    {
      "cell_type": "markdown",
      "metadata": {
        "id": "qx2-UbqB8tH4",
        "colab_type": "text"
      },
      "source": [
        "Set up the microgrid and the solver"
      ]
    },
    {
      "cell_type": "code",
      "metadata": {
        "id": "ZOEIX4pqW7u6",
        "colab_type": "code",
        "colab": {}
      },
      "source": [
        "import cplex\n",
        "from transax.Microgrid import Microgrid\n",
        "from transax.MatchingSolver import Offer, MatchingSolver\n",
        "microgrid = Microgrid(interval_length=1.0, C_ext=25000, C_int=250000, feeders=[0], prosumer_feeder={\n",
        "    101: 0,\n",
        "    102: 0,\n",
        "    103: 0,\n",
        "    104: 0,\n",
        "    105: 0,\n",
        "    201: 0,\n",
        "    202: 0,\n",
        "    203: 0,\n",
        "    204: 0,\n",
        "    207: 0,\n",
        "    301: 0,\n",
        "    302: 0,\n",
        "    303: 0,\n",
        "    304: 0,\n",
        "    305: 0,\n",
        "  })\n",
        "solver = MatchingSolver(microgrid)"
      ],
      "execution_count": 0,
      "outputs": []
    },
    {
      "cell_type": "markdown",
      "metadata": {
        "id": "0Mh276s78vCk",
        "colab_type": "text"
      },
      "source": [
        "Build a dictionary of all the prosumer offers"
      ]
    },
    {
      "cell_type": "code",
      "metadata": {
        "id": "iGV7Yni-tHJs",
        "colab_type": "code",
        "colab": {}
      },
      "source": [
        "import pandas as pd\n",
        "import numpy as np\n",
        "prosumer_df = {}\n",
        "directory = os.fsencode('/content/gdrive/My Drive/profiles')\n",
        "for file in os.listdir(directory):\n",
        "  filename = os.fsdecode(file)\n",
        "  prosumer_id = int(filename.split('_')[1].split('.')[0])\n",
        "  prosumer_df[prosumer_id] = pd.read_csv('/content/gdrive/My Drive/profiles/' + filename)\n"
      ],
      "execution_count": 0,
      "outputs": []
    },
    {
      "cell_type": "markdown",
      "metadata": {
        "id": "iId3b39Z82DC",
        "colab_type": "text"
      },
      "source": [
        "Create lists for buying and selling offers, also determine total energy on the grid. Consumption is represented with positive values, production is represented with negative values."
      ]
    },
    {
      "cell_type": "code",
      "metadata": {
        "id": "mlcU2sPh8cP-",
        "colab_type": "code",
        "colab": {}
      },
      "source": [
        "buying_offers = []\n",
        "selling_offers = []\n",
        "total_energy = 0\n",
        "for key, prosumer in prosumer_df.items():\n",
        "  for row in prosumer.iterrows():\n",
        "      startTime = int(row[1]['startTime'])\n",
        "      endTime = int(row[1]['endTime'])\n",
        "      energy = float(row[1]['energy'])\n",
        "      total_energy = total_energy + energy\n",
        "      offer = Offer(key, key, startTime, endTime, np.abs(energy), 1)\n",
        "      if energy < 0:\n",
        "        buying_offers.append(offer)\n",
        "      elif energy > 0:\n",
        "        selling_offers.append(offer)"
      ],
      "execution_count": 0,
      "outputs": []
    },
    {
      "cell_type": "markdown",
      "metadata": {
        "id": "Ahcggt2Xe_Na",
        "colab_type": "text"
      },
      "source": [
        "Determine total energy traded after all offers have been matched"
      ]
    },
    {
      "cell_type": "code",
      "metadata": {
        "id": "Fk8DEPtg0Oxh",
        "colab_type": "code",
        "outputId": "7cc71184-8c6f-41e0-e0e3-b10ce64870e8",
        "colab": {
          "base_uri": "https://localhost:8080/",
          "height": 35
        }
      },
      "source": [
        "(trades, objective) = solver.solve(buying_offers=buying_offers, selling_offers=selling_offers)\n",
        "print(\"Success: {} energy traded\".format(objective))"
      ],
      "execution_count": 9,
      "outputs": [
        {
          "output_type": "stream",
          "text": [
            "Success: 765.8317905248687 energy traded\n"
          ],
          "name": "stdout"
        }
      ]
    },
    {
      "cell_type": "markdown",
      "metadata": {
        "id": "ZGYE87kie9un",
        "colab_type": "text"
      },
      "source": [
        "Case 1: All prosumers produce/consume exactly what they offered. Find total demand on DSO.\n",
        "\n"
      ]
    },
    {
      "cell_type": "code",
      "metadata": {
        "id": "RFZAANuR9XYO",
        "colab_type": "code",
        "outputId": "fe376077-4ded-481e-8c0d-accf9ac9692d",
        "colab": {
          "base_uri": "https://localhost:8080/",
          "height": 35
        }
      },
      "source": [
        "unmet_energy = np.abs(total_energy)-objective\n",
        "print('Prosumers produce as anticipated. Load on DSO: {}'.format(unmet_energy))"
      ],
      "execution_count": 10,
      "outputs": [
        {
          "output_type": "stream",
          "text": [
            "Prosumers produce as anticipated. Load on DSO: 157.58606322981495\n"
          ],
          "name": "stdout"
        }
      ]
    },
    {
      "cell_type": "markdown",
      "metadata": {
        "id": "jrCXTg3ohAbS",
        "colab_type": "text"
      },
      "source": [
        "Case 2: Prosumers' offers are all incorrect by a normal distribution."
      ]
    },
    {
      "cell_type": "code",
      "metadata": {
        "id": "aEfLqYzFErSA",
        "colab_type": "code",
        "outputId": "3e81f16e-85cd-468a-cae2-5f94644af02c",
        "colab": {
          "base_uri": "https://localhost:8080/",
          "height": 35
        }
      },
      "source": [
        "total_energy = 0\n",
        "for prosumer in prosumer_df.values():\n",
        "  for row in prosumer.iterrows():\n",
        "      energy = float(row[1]['energy']) + np.random.normal(0,1)\n",
        "      total_energy = total_energy + energy\n",
        "\n",
        "unmet_energy = np.abs(total_energy)-objective\n",
        "print('Each offer is incorrect by a normal distribution. Load on DSO: {}'.format(unmet_energy))"
      ],
      "execution_count": 11,
      "outputs": [
        {
          "output_type": "stream",
          "text": [
            "Each offer is incorrect by a normal distribution. Load on DSO: 194.2489863146177\n"
          ],
          "name": "stdout"
        }
      ]
    },
    {
      "cell_type": "markdown",
      "metadata": {
        "id": "XOknZ7gzh86x",
        "colab_type": "text"
      },
      "source": [
        "Case 3: Producers consistently overestimate their production ability. (i.e. a cloudy day that was supposed to be clear)"
      ]
    },
    {
      "cell_type": "code",
      "metadata": {
        "id": "ZW7ngOgHFmN0",
        "colab_type": "code",
        "outputId": "0069b5b6-d550-422f-b832-dfc1e3987855",
        "colab": {
          "base_uri": "https://localhost:8080/",
          "height": 35
        }
      },
      "source": [
        "total_energy = 0\n",
        "for prosumer in prosumer_df.values():\n",
        "  for row in prosumer.iterrows():\n",
        "      energy = float(row[1]['energy'])\n",
        "      if energy > 0:\n",
        "        energy = energy - np.random.exponential(2)\n",
        "      total_energy = total_energy + energy\n",
        "\n",
        "unmet_energy = np.abs(total_energy)-objective\n",
        "print('Producers consistently overestimate production. Load on DSO: {}'.format(unmet_energy))"
      ],
      "execution_count": 12,
      "outputs": [
        {
          "output_type": "stream",
          "text": [
            "Producers consistently overestimate production. Load on DSO: 1281.0863287820382\n"
          ],
          "name": "stdout"
        }
      ]
    },
    {
      "cell_type": "markdown",
      "metadata": {
        "id": "DB50n30h6tY8",
        "colab_type": "text"
      },
      "source": [
        "Plot of loss of trading volume vs. offer error\n"
      ]
    },
    {
      "cell_type": "code",
      "metadata": {
        "id": "FtZewP3u7IG4",
        "colab_type": "code",
        "colab": {
          "base_uri": "https://localhost:8080/",
          "height": 35
        },
        "outputId": "cce3e729-cd60-4279-e379-86e03f7612a3"
      },
      "source": [
        "sigmas = [1, 2, 3, 4, 5]\n",
        "total_energy = np.zeros(len(sigmas))\n",
        "for idx, sigma in enumerate(sigmas):\n",
        "  for prosumer in prosumer_df.values():\n",
        "    for row in prosumer.iterrows():\n",
        "        energy = float(row[1]['energy']) + np.random.normal(0,sigma)\n",
        "        total_energy[idx] = total_energy[idx] + energy\n",
        "\n",
        "unmet_energy = np.abs(total_energy)-objective\n",
        "print('Each offer is incorrect by a normal distribution. Load on DSO: {}'.format(unmet_energy))"
      ],
      "execution_count": 17,
      "outputs": [
        {
          "output_type": "stream",
          "text": [
            "Each offer is incorrect by a normal distribution. Load on DSO: [135.61039952 196.76930199 148.94222563 -31.41597801 196.08214677]\n"
          ],
          "name": "stdout"
        }
      ]
    },
    {
      "cell_type": "code",
      "metadata": {
        "id": "Kx9t6CRO9g0y",
        "colab_type": "code",
        "colab": {
          "base_uri": "https://localhost:8080/",
          "height": 53
        },
        "outputId": "0e9f2db1-d0fe-47d0-fd01-832e0bfa3ddc"
      },
      "source": [
        "import matplotlib.pyplot as plt\n",
        "\n"
      ],
      "execution_count": 14,
      "outputs": [
        {
          "output_type": "execute_result",
          "data": {
            "text/plain": [
              "array([[-903.38112553, -903.38112553, -903.38112553, -903.38112553,\n",
              "        -903.38112553]])"
            ]
          },
          "metadata": {
            "tags": []
          },
          "execution_count": 14
        }
      ]
    },
    {
      "cell_type": "code",
      "metadata": {
        "id": "gWxI88V09luO",
        "colab_type": "code",
        "colab": {}
      },
      "source": [
        ""
      ],
      "execution_count": 0,
      "outputs": []
    }
  ]
}