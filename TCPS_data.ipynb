{
  "nbformat": 4,
  "nbformat_minor": 0,
  "metadata": {
    "colab": {
      "name": "TCPS_data.ipynb",
      "provenance": [],
      "include_colab_link": true
    },
    "kernelspec": {
      "name": "python3",
      "display_name": "Python 3"
    }
  },
  "cells": [
    {
      "cell_type": "markdown",
      "metadata": {
        "id": "view-in-github",
        "colab_type": "text"
      },
      "source": [
        "<a href=\"https://colab.research.google.com/github/scope-lab-vu/transactive-blockchain/blob/master/TCPS_data.ipynb\" target=\"_parent\"><img src=\"https://colab.research.google.com/assets/colab-badge.svg\" alt=\"Open In Colab\"/></a>"
      ]
    },
    {
      "cell_type": "markdown",
      "metadata": {
        "id": "neAYkqYYkAMB",
        "colab_type": "text"
      },
      "source": [
        "These commands set up git large file storage. Not sure if we need it, so they are commented out for now."
      ]
    },
    {
      "cell_type": "code",
      "metadata": {
        "id": "dLz8kaeMhFP6",
        "colab_type": "code",
        "colab": {}
      },
      "source": [
        "# ! curl -s https://packagecloud.io/install/repositories/github/git-lfs/script.deb.sh | sudo bash"
      ],
      "execution_count": 0,
      "outputs": []
    },
    {
      "cell_type": "code",
      "metadata": {
        "id": "f0stVTTuhG28",
        "colab_type": "code",
        "colab": {}
      },
      "source": [
        "# ! wget https://github.com/git-lfs/git-lfs/releases/download/v2.10.0/git-lfs-linux-amd64-v2.10.0.tar.gz"
      ],
      "execution_count": 0,
      "outputs": []
    },
    {
      "cell_type": "code",
      "metadata": {
        "id": "5i-1JZ_thVJA",
        "colab_type": "code",
        "colab": {}
      },
      "source": [
        "# ! tar -xvf git-lfs-linux-amd64-v2.10.0.tar.gz ; chmod +X install.sh ; ./install.sh "
      ],
      "execution_count": 0,
      "outputs": []
    },
    {
      "cell_type": "markdown",
      "metadata": {
        "id": "MWycRuTBkLmW",
        "colab_type": "text"
      },
      "source": [
        "Make cplex installer executable. Expects it to be in base of your google drive"
      ]
    },
    {
      "cell_type": "code",
      "metadata": {
        "id": "ZZQAif81GAQE",
        "colab_type": "code",
        "colab": {}
      },
      "source": [
        "! chmod +x drive/My\\ Drive/cplex_studio129.linux-x86-64.bin"
      ],
      "execution_count": 0,
      "outputs": []
    },
    {
      "cell_type": "markdown",
      "metadata": {
        "id": "LL1ywi7lkWQA",
        "colab_type": "text"
      },
      "source": [
        "silent install. expects ```installer.properties``` to be in base of google drive"
      ]
    },
    {
      "cell_type": "code",
      "metadata": {
        "id": "5m2PY6ygXPG6",
        "colab_type": "code",
        "outputId": "711864ed-2145-4f1d-c0ba-d1a87c879da5",
        "colab": {
          "base_uri": "https://localhost:8080/",
          "height": 160
        }
      },
      "source": [
        "%%capture\n",
        "! ./drive/My\\ Drive/cplex_studio129.linux-x86-64.bin -f \"installer.properties\""
      ],
      "execution_count": 0,
      "outputs": [
        {
          "output_type": "stream",
          "text": [
            "Preparing to install\n",
            "Extracting the JRE from the installer archive...\n",
            "Unpacking the JRE...\n",
            "Extracting the installation resources from the installer archive...\n",
            "Configuring the installer for this system's environment...\n",
            "\n",
            "Launching installer...\n",
            "\n"
          ],
          "name": "stdout"
        }
      ]
    },
    {
      "cell_type": "markdown",
      "metadata": {
        "id": "b8pL5tBSkteW",
        "colab_type": "text"
      },
      "source": [
        "install python binding for cplex"
      ]
    },
    {
      "cell_type": "code",
      "metadata": {
        "id": "H6UgyF_0PSLW",
        "colab_type": "code",
        "colab": {}
      },
      "source": [
        "%%capture\n",
        "! cd /opt/ibm/ILOG/CPLEX_Studio129/python/ ; python3 setup.py install;"
      ],
      "execution_count": 0,
      "outputs": []
    },
    {
      "cell_type": "code",
      "metadata": {
        "id": "xNMV-pV1VLwU",
        "colab_type": "code",
        "colab": {}
      },
      "source": [
        "import cplex"
      ],
      "execution_count": 0,
      "outputs": []
    },
    {
      "cell_type": "code",
      "metadata": {
        "id": "fuBVBz4ostri",
        "colab_type": "code",
        "colab": {
          "base_uri": "https://localhost:8080/",
          "height": 269
        },
        "outputId": "92f7d36d-fb30-4976-9ed6-d54547e237b8"
      },
      "source": [
        "import os, sys\n",
        "from google.colab import drive\n",
        "drive.mount('/content/mnt')\n",
        "nb_path = '/content/notebooks'\n",
        "os.symlink('/content/mnt/My Drive/Colab Notebooks', nb_path)\n",
        "sys.path.insert(0, nb_path)  # or append(nb_path)"
      ],
      "execution_count": 22,
      "outputs": [
        {
          "output_type": "stream",
          "text": [
            "Drive already mounted at /content/mnt; to attempt to forcibly remount, call drive.mount(\"/content/mnt\", force_remount=True).\n"
          ],
          "name": "stdout"
        },
        {
          "output_type": "error",
          "ename": "FileExistsError",
          "evalue": "ignored",
          "traceback": [
            "\u001b[0;31m---------------------------------------------------------------------------\u001b[0m",
            "\u001b[0;31mFileExistsError\u001b[0m                           Traceback (most recent call last)",
            "\u001b[0;32m<ipython-input-22-ca81aa55718a>\u001b[0m in \u001b[0;36m<module>\u001b[0;34m()\u001b[0m\n\u001b[1;32m      3\u001b[0m \u001b[0mdrive\u001b[0m\u001b[0;34m.\u001b[0m\u001b[0mmount\u001b[0m\u001b[0;34m(\u001b[0m\u001b[0;34m'/content/mnt'\u001b[0m\u001b[0;34m)\u001b[0m\u001b[0;34m\u001b[0m\u001b[0;34m\u001b[0m\u001b[0m\n\u001b[1;32m      4\u001b[0m \u001b[0mnb_path\u001b[0m \u001b[0;34m=\u001b[0m \u001b[0;34m'/content/notebooks'\u001b[0m\u001b[0;34m\u001b[0m\u001b[0;34m\u001b[0m\u001b[0m\n\u001b[0;32m----> 5\u001b[0;31m \u001b[0mos\u001b[0m\u001b[0;34m.\u001b[0m\u001b[0msymlink\u001b[0m\u001b[0;34m(\u001b[0m\u001b[0;34m'/content/mnt/My Drive/Colab Notebooks'\u001b[0m\u001b[0;34m,\u001b[0m \u001b[0mnb_path\u001b[0m\u001b[0;34m)\u001b[0m\u001b[0;34m\u001b[0m\u001b[0;34m\u001b[0m\u001b[0m\n\u001b[0m\u001b[1;32m      6\u001b[0m \u001b[0msys\u001b[0m\u001b[0;34m.\u001b[0m\u001b[0mpath\u001b[0m\u001b[0;34m.\u001b[0m\u001b[0minsert\u001b[0m\u001b[0;34m(\u001b[0m\u001b[0;36m0\u001b[0m\u001b[0;34m,\u001b[0m \u001b[0mnb_path\u001b[0m\u001b[0;34m)\u001b[0m  \u001b[0;31m# or append(nb_path)\u001b[0m\u001b[0;34m\u001b[0m\u001b[0;34m\u001b[0m\u001b[0m\n",
            "\u001b[0;31mFileExistsError\u001b[0m: [Errno 17] File exists: '/content/mnt/My Drive/Colab Notebooks' -> '/content/notebooks'"
          ]
        }
      ]
    },
    {
      "cell_type": "code",
      "metadata": {
        "id": "1msGhqk7swcM",
        "colab_type": "code",
        "colab": {
          "base_uri": "https://localhost:8080/",
          "height": 54
        },
        "outputId": "c9a7f87a-038d-4167-a387-fac73278670a"
      },
      "source": [
        "!git clone https:///github.com/scope-lab-vu/transactive-blockchain.git"
      ],
      "execution_count": 11,
      "outputs": [
        {
          "output_type": "stream",
          "text": [
            "Cloning into 'transactive-blockchain'...\n",
            "fatal: could not read Username for 'https://github.com': No such device or address\n"
          ],
          "name": "stdout"
        }
      ]
    },
    {
      "cell_type": "code",
      "metadata": {
        "id": "2mQc9Oaftg07",
        "colab_type": "code",
        "colab": {
          "base_uri": "https://localhost:8080/",
          "height": 36
        },
        "outputId": "60d3d42d-22c5-4f27-c83b-b0246e498d6b"
      },
      "source": [
        "!ls"
      ],
      "execution_count": 12,
      "outputs": [
        {
          "output_type": "stream",
          "text": [
            "mnt  notebooks\tsample_data\n"
          ],
          "name": "stdout"
        }
      ]
    },
    {
      "cell_type": "code",
      "metadata": {
        "id": "kZvdJ_71tk_3",
        "colab_type": "code",
        "colab": {
          "base_uri": "https://localhost:8080/",
          "height": 174
        },
        "outputId": "17a3a55d-e834-4c85-93d1-d347f983e06d"
      },
      "source": [
        "os.chdir('/content/drive/My Drive')"
      ],
      "execution_count": 15,
      "outputs": [
        {
          "output_type": "error",
          "ename": "FileNotFoundError",
          "evalue": "ignored",
          "traceback": [
            "\u001b[0;31m---------------------------------------------------------------------------\u001b[0m",
            "\u001b[0;31mFileNotFoundError\u001b[0m                         Traceback (most recent call last)",
            "\u001b[0;32m<ipython-input-15-2006d2668301>\u001b[0m in \u001b[0;36m<module>\u001b[0;34m()\u001b[0m\n\u001b[0;32m----> 1\u001b[0;31m \u001b[0mos\u001b[0m\u001b[0;34m.\u001b[0m\u001b[0mchdir\u001b[0m\u001b[0;34m(\u001b[0m\u001b[0;34m'/content/drive/My Drive'\u001b[0m\u001b[0;34m)\u001b[0m\u001b[0;34m\u001b[0m\u001b[0;34m\u001b[0m\u001b[0m\n\u001b[0m",
            "\u001b[0;31mFileNotFoundError\u001b[0m: [Errno 2] No such file or directory: '/content/drive/My Drive'"
          ]
        }
      ]
    },
    {
      "cell_type": "code",
      "metadata": {
        "id": "jA3w7cFotl83",
        "colab_type": "code",
        "colab": {
          "base_uri": "https://localhost:8080/",
          "height": 1000
        },
        "outputId": "f8d03ed7-70ea-409e-e88e-9199edc94cba"
      },
      "source": [
        "os.chdir('/content/mnt/My Drive')\n",
        "!ls"
      ],
      "execution_count": 21,
      "outputs": [
        {
          "output_type": "stream",
          "text": [
            " 0352_001.pdf\n",
            "'100% Renewable Petition Signatures.gsheet'\n",
            " 161300revT1_19085.pdf\n",
            " 2017\n",
            "'20181121_VU_BlueSky_Final_Report_DRAFT_v1 for BSAC.docx'\n",
            "'20181121_VU_BlueSky_Final_Report_DRAFT_v1 for BSAC.gdoc'\n",
            "'2019 Green Fair Registration (1).gdoc'\n",
            "'2019 Green Fair Registration.gdoc'\n",
            "'2019 Green Fair Registration.pdf'\n",
            " 26eba130.568x320r90.mp4\n",
            " 31.gdoc\n",
            "'4 3 Consent Event Tasks.gsheet'\n",
            " AHT\n",
            "'AHT 2018 Pictures'\n",
            " Algebra_Review\n",
            "'Al Gore Q&A.gform'\n",
            "'Al Gore Q&A (Responses).gsheet'\n",
            "'Analysis of Linear Circuits.pdf'\n",
            " AssignedStrengthsCodes_RAs_2018-2019.xlsx\n",
            " AssignedStrengthsCodes_RAs_2018-2019.xlsx.gsheet\n",
            "'Beyerlein Article.gdoc'\n",
            "'BG Club Forms'\n",
            "'BKBQM Programming'\n",
            "'Black Bear Questions Document.docx'\n",
            "'Black Bear Questions Document.gdoc'\n",
            "'BQBKM Fall 2018 Hall Meeting.gdoc'\n",
            "'BQBKM HRs'\n",
            "'BQBKM Rosters 8.9 (1).gsheet'\n",
            "'BQBKM Rosters 8.9 (2).gsheet'\n",
            "'BQBKM Rosters 8.9 (3).gsheet'\n",
            "'BQBKM Rosters 8.9 (4).gsheet'\n",
            "'BQBKM Rosters 8.9 (5).gsheet'\n",
            "'BQBKM Rosters 8.9.gsheet'\n",
            "'BQBKM Rosters 8.9.xlsx'\n",
            "'BQBKM Staff Information 8.2018.gsheet'\n",
            "'BQBKM Staff Information 8.2018.xlsx'\n",
            "'Branscomb-Blakemore Opening Rosters.xls'\n",
            "'Branscomb-Blakemore Spring Roster 1.3.2020.gsheet'\n",
            "'Branscomb-Blakemore Spring Roster 1.3.2020.xls'\n",
            "'Candidate_Expense_Report_Form (1).gdoc'\n",
            " Candidate_Expense_Report_Form.docx\n",
            " Candidate_Expense_Report_Form.gdoc\n",
            "'Chapter 7 - Religion and Politics.gdoc'\n",
            "'Chemistry 1601 Textbook.pdf'\n",
            " chirps_insectpres.gslides\n",
            " chirps_insectpres.pptx\n",
            "'Circuits Lab 10.gdoc'\n",
            " Classes.gsheet\n",
            "'Committee Meeting Notes'\n",
            "'Commodore Cash Selection - Print Commodore Card Terms and Conditions.pdf'\n",
            "'Computer Vision Final Project Proposal.gdoc'\n",
            "'ConferenceProposal (1).gdoc'\n",
            " ConferenceProposal.gdoc\n",
            " ConferenceProposal.pdf\n",
            "'Copy of 100% Renewable Petition.gform'\n",
            "'Copy of BQBKM Rosters 8.9.gsheet'\n",
            "'Copy of Branscomb-Blakemore Opening Rosters.xlsx'\n",
            "'Copy of Update 4 23.gslides'\n",
            " DeterminingOutliers.pdf\n",
            " directOutput.mat\n",
            "'Discrete Induction Presentatin.gslides'\n",
            "'Discrete Structures Game Solution.gdoc'\n",
            "'DTD Kappas'\n",
            " DTDrive\n",
            "'EECE 3214 Lab 1 Report.gdoc'\n",
            "'Electronics Lab 1.gdoc'\n",
            "'Electronics Lab 2.gdoc'\n",
            "'Electronics Lab 3.gdoc'\n",
            "'Electronics Lab 4.gdoc'\n",
            "'Electronics Lab 5.gdoc'\n",
            "'Electronics lab 6.gdoc'\n",
            "'Electronics Lab 8.gdoc'\n",
            "'Email Response.gdoc'\n",
            "'ENGM .gslides'\n",
            "'femininity study.docx'\n",
            "'femininity study.gdoc'\n",
            "'FINAL - DADM Future VU Parking Day Flyer Evite 2018.pdf'\n",
            " FineFeels-005.jpg\n",
            " FineFeels-006.jpg\n",
            " FineFeels-009.jpg\n",
            " FineFeels-010.jpg\n",
            " FineFeels-016.jpg\n",
            " fullsizeoutput_17c8.jpeg\n",
            "'GBM 1 Attendance.gsheet'\n",
            "'GBM Attendance 1 6.gsheet'\n",
            "'General Chemistry 1601'\n",
            "'Getting started.pdf'\n",
            "'Greek Presidents.gdoc'\n",
            "'High School Musical Choreography.gslides'\n",
            " Hololens\n",
            "'Hololens Math vs. MergeToNDVI2 .gdoc'\n",
            "'Hololens Project Flow Chart 10 29.gdraw'\n",
            "'Hololens Project Flow Chart.gdraw'\n",
            "'Hololens Project Timeline Goals.gdoc'\n",
            " HW2.docx\n",
            "'IEEE 13 Lines and Loads List.gdoc'\n",
            " IMG_1066.JPG\n",
            "'K&A ASB 2K18'\n",
            "'Keegan Campanelli Resume.pdf'\n",
            "'Keegan Campanelli Sublet Form.gdoc'\n",
            "'Keegan Campanelli Sublet Form.pdf'\n",
            "'Lab 11.gdoc'\n",
            "'Lab 2 notes S&S .gdoc'\n",
            "'Lab 3 Notes.gdoc'\n",
            "'Lab 9.gdoc'\n",
            "'Midnight Munch Budget.gdoc'\n",
            "'Offshore Wind Investment in Virginia.gslides'\n",
            "'Organization Resolution Signatures.gdoc'\n",
            "'Outstanding Senior Application.gdoc'\n",
            "'pcc document.gdoc'\n",
            "'PHIL 3630 who fuggin cares.gdoc'\n",
            "'POI and Export Integration Instructions.gdoc'\n",
            "'Presentation 1 Tech Comms.gslides'\n",
            "'President SPEAR.gform'\n",
            "'Protection of Minors 101.pdf'\n",
            " Receipts\n",
            "'Renewable Energy Bill (1).docx'\n",
            "'Renewable Energy Bill (1).gdoc'\n",
            "'Renewable Energy Bill (2).gdoc'\n",
            "'Renewable Energy Bill.docx'\n",
            "'Renewable Energy Bill.gdoc'\n",
            "'Renewable Energy Petition Language.gdoc'\n",
            " Results.zip\n",
            "'ROAD Attendance.xlsx'\n",
            "'ROAD Attendance.xlsx.gsheet'\n",
            "'Road Chair Application.gdoc'\n",
            " Rush\n",
            "'Senior Design'\n",
            "'Senior Design 6_27'\n",
            "'Senior Design 6_9.drawio'\n",
            "'Senior Design 7_9'\n",
            "'Sig Challenge Pics'\n",
            "'Sig Challenge Pics (2)'\n",
            "'Simulation Design Overview.gdoc'\n",
            "'Smart Cities Project'\n",
            "'Sociology of Religion Midterm'\n",
            " SPEAR\n",
            "'SPEAR Branscomb Earth Day Event.gsheet'\n",
            "'SPEAR Notes'\n",
            "'SPEAR trifold.docx'\n",
            "'SPEAR trifold.gdoc'\n",
            "'SPEAR trifold.pdf'\n",
            "'Spring 2019 Evaluation Keegan.gdoc'\n",
            "'Spring 2019 Evaluation Template.docx'\n",
            "'Spring 2019 Evaluation Template.gdoc'\n",
            "'Student Handout to Complete Expense Report in Oracle Cloud  FINAL  1-22-.._.gdoc'\n",
            "'Sustainability Advisory Council Overview DRAFT 11.13.19.docx'\n",
            "'Sustainability Advisory Council Overview DRAFT 11.13.19.gdoc'\n",
            "'Sustainability Steering Committee Proposal.docx'\n",
            "'Sustainability Steering Committee Proposal.gdoc'\n",
            "'Tech Comms Presentation.gslides'\n",
            "'Test Bank'\n",
            " Textbooks\n",
            "'Untitled document.gdoc'\n",
            "'Untitled form.gform'\n",
            "'Untitled spreadsheet.gsheet'\n",
            "'Verdigris Talking Notes.gdoc'\n",
            " VID_20161021_150558.mp4\n",
            "'Wind Turbine Project'\n",
            " ZoneNData.zip\n"
          ],
          "name": "stdout"
        }
      ]
    },
    {
      "cell_type": "code",
      "metadata": {
        "id": "tSQemxfzxC8e",
        "colab_type": "code",
        "colab": {}
      },
      "source": [
        ""
      ],
      "execution_count": 0,
      "outputs": []
    }
  ]
}