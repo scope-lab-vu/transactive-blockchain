{
  "nbformat": 4,
  "nbformat_minor": 0,
  "metadata": {
    "colab": {
      "name": "TCPS_data.ipynb",
      "provenance": [],
      "include_colab_link": true
    },
    "kernelspec": {
      "name": "python3",
      "display_name": "Python 3"
    }
  },
  "cells": [
    {
      "cell_type": "markdown",
      "metadata": {
        "id": "view-in-github",
        "colab_type": "text"
      },
      "source": [
        "<a href=\"https://colab.research.google.com/github/scope-lab-vu/transactive-blockchain/blob/master/TCPS_data.ipynb\" target=\"_parent\"><img src=\"https://colab.research.google.com/assets/colab-badge.svg\" alt=\"Open In Colab\"/></a>"
      ]
    },
    {
      "cell_type": "markdown",
      "metadata": {
        "id": "neAYkqYYkAMB",
        "colab_type": "text"
      },
      "source": [
        "These commands set up git large file storage. Not sure if we need it, so they are commented out for now."
      ]
    },
    {
      "cell_type": "code",
      "metadata": {
        "id": "dLz8kaeMhFP6",
        "colab_type": "code",
        "colab": {}
      },
      "source": [
        "# ! curl -s https://packagecloud.io/install/repositories/github/git-lfs/script.deb.sh | sudo bash"
      ],
      "execution_count": 0,
      "outputs": []
    },
    {
      "cell_type": "code",
      "metadata": {
        "id": "f0stVTTuhG28",
        "colab_type": "code",
        "colab": {}
      },
      "source": [
        "# ! wget https://github.com/git-lfs/git-lfs/releases/download/v2.10.0/git-lfs-linux-amd64-v2.10.0.tar.gz"
      ],
      "execution_count": 0,
      "outputs": []
    },
    {
      "cell_type": "code",
      "metadata": {
        "id": "5i-1JZ_thVJA",
        "colab_type": "code",
        "colab": {}
      },
      "source": [
        "# ! tar -xvf git-lfs-linux-amd64-v2.10.0.tar.gz ; chmod +X install.sh ; ./install.sh "
      ],
      "execution_count": 0,
      "outputs": []
    },
    {
      "cell_type": "markdown",
      "metadata": {
        "id": "0EiV1fCj-UlB",
        "colab_type": "text"
      },
      "source": [
        "Mount Google Drive to access installation files"
      ]
    },
    {
      "cell_type": "code",
      "metadata": {
        "id": "R07Fir5u6bNR",
        "colab_type": "code",
        "colab": {
          "base_uri": "https://localhost:8080/",
          "height": 126
        },
        "outputId": "e6489820-8f88-4e5e-8189-78dd4dbcdf63"
      },
      "source": [
        "from google.colab import drive\n",
        "drive.mount('/content/gdrive')"
      ],
      "execution_count": 1,
      "outputs": [
        {
          "output_type": "stream",
          "text": [
            "Go to this URL in a browser: https://accounts.google.com/o/oauth2/auth?client_id=947318989803-6bn6qk8qdgf4n4g3pfee6491hc0brc4i.apps.googleusercontent.com&redirect_uri=urn%3aietf%3awg%3aoauth%3a2.0%3aoob&response_type=code&scope=email%20https%3a%2f%2fwww.googleapis.com%2fauth%2fdocs.test%20https%3a%2f%2fwww.googleapis.com%2fauth%2fdrive%20https%3a%2f%2fwww.googleapis.com%2fauth%2fdrive.photos.readonly%20https%3a%2f%2fwww.googleapis.com%2fauth%2fpeopleapi.readonly\n",
            "\n",
            "Enter your authorization code:\n",
            "··········\n",
            "Mounted at /content/gdrive\n"
          ],
          "name": "stdout"
        }
      ]
    },
    {
      "cell_type": "markdown",
      "metadata": {
        "id": "K7dJoeGq-Z77",
        "colab_type": "text"
      },
      "source": [
        "Install cplex from Google Drive. installer.properties included in directory for silent install"
      ]
    },
    {
      "cell_type": "code",
      "metadata": {
        "id": "wT5iseL5-emF",
        "colab_type": "code",
        "colab": {
          "base_uri": "https://localhost:8080/",
          "height": 160
        },
        "outputId": "fe2947e5-d3c1-4083-efbb-40c38cd151af"
      },
      "source": [
        "! chmod u+x /content/gdrive/My\\ Drive/ColabLibraries/cplex_studio129.linux-x86-64.bin\n",
        "\n",
        "!/content/gdrive/My\\ Drive/ColabLibraries/cplex_studio129.linux-x86-64.bin -f \"installer.properties\"\n"
      ],
      "execution_count": 2,
      "outputs": [
        {
          "output_type": "stream",
          "text": [
            "Preparing to install\n",
            "Extracting the JRE from the installer archive...\n",
            "Unpacking the JRE...\n",
            "Extracting the installation resources from the installer archive...\n",
            "Configuring the installer for this system's environment...\n",
            "\n",
            "Launching installer...\n",
            "\n"
          ],
          "name": "stdout"
        }
      ]
    },
    {
      "cell_type": "markdown",
      "metadata": {
        "id": "G29_4xvRSW28",
        "colab_type": "text"
      },
      "source": [
        "Install cplex python binaries"
      ]
    },
    {
      "cell_type": "code",
      "metadata": {
        "id": "abFCyfAn-qX-",
        "colab_type": "code",
        "colab": {}
      },
      "source": [
        "%%capture\n",
        "! cd /opt/ibm/ILOG/CPLEX_Studio129/python/; python3 setup.py install;"
      ],
      "execution_count": 0,
      "outputs": []
    },
    {
      "cell_type": "markdown",
      "metadata": {
        "id": "Kttz1EBCSbaS",
        "colab_type": "text"
      },
      "source": [
        "Clone transax repo"
      ]
    },
    {
      "cell_type": "code",
      "metadata": {
        "id": "jA3w7cFotl83",
        "colab_type": "code",
        "outputId": "650f342e-802f-485e-cd6c-148add94f66f",
        "colab": {
          "base_uri": "https://localhost:8080/",
          "height": 196
        }
      },
      "source": [
        "from getpass import getpass\n",
        "import os\n",
        "\n",
        "user = getpass('GitHub User')\n",
        "password = getpass('GitHub password')\n",
        "os.environ['GITHUB_AUTH'] = user + ':' + password\n",
        "\n",
        "!git clone https://$GITHUB_AUTH@github.com/scope-lab-vu/transactive-blockchain.git\n"
      ],
      "execution_count": 5,
      "outputs": [
        {
          "output_type": "stream",
          "text": [
            "GitHub User··········\n",
            "GitHub password··········\n",
            "Cloning into 'transactive-blockchain'...\n",
            "remote: Enumerating objects: 22, done.\u001b[K\n",
            "remote: Counting objects: 100% (22/22), done.\u001b[K\n",
            "remote: Compressing objects: 100% (21/21), done.\u001b[K\n",
            "remote: Total 4762 (delta 10), reused 4 (delta 1), pack-reused 4740\u001b[K\n",
            "Receiving objects: 100% (4762/4762), 139.49 MiB | 33.22 MiB/s, done.\n",
            "Resolving deltas: 100% (2178/2178), done.\n",
            "Checking out files: 100% (2097/2097), done.\n"
          ],
          "name": "stdout"
        }
      ]
    },
    {
      "cell_type": "markdown",
      "metadata": {
        "id": "HAanJbMy-xsh",
        "colab_type": "text"
      },
      "source": [
        "Install transax library"
      ]
    },
    {
      "cell_type": "code",
      "metadata": {
        "id": "-SDoJKEiStfg",
        "colab_type": "code",
        "colab": {
          "base_uri": "https://localhost:8080/",
          "height": 323
        },
        "outputId": "e83e14a4-ca1c-4ec9-aad1-55492170ad53"
      },
      "source": [
        "%%capture\n",
        "! cd /content/transactive-blockchain/transax; sudo pip3 install ."
      ],
      "execution_count": 6,
      "outputs": [
        {
          "output_type": "stream",
          "text": [
            "Processing /content/transactive-blockchain/transax\n",
            "Requirement already satisfied: scipy in /usr/local/lib/python3.6/dist-packages (from transax==1.0) (1.4.1)\n",
            "Collecting pycurl\n",
            "\u001b[?25l  Downloading https://files.pythonhosted.org/packages/ef/05/4b773f74f830a90a326b06f9b24e65506302ab049e825a3c0b60b1a6e26a/pycurl-7.43.0.5.tar.gz (216kB)\n",
            "\u001b[K     |████████████████████████████████| 225kB 3.5MB/s \n",
            "\u001b[?25hRequirement already satisfied: numpy>=1.13.3 in /usr/local/lib/python3.6/dist-packages (from scipy->transax==1.0) (1.18.1)\n",
            "Building wheels for collected packages: transax, pycurl\n",
            "  Building wheel for transax (setup.py) ... \u001b[?25l\u001b[?25hdone\n",
            "  Created wheel for transax: filename=transax-1.0-cp36-none-any.whl size=9784 sha256=f49a5d5d6917f8e706c1199f6141f7b0bcc816bfbc614891a384ab1026273194\n",
            "  Stored in directory: /tmp/pip-ephem-wheel-cache-l7eumhj2/wheels/ca/ea/6e/796640569df0e9318c2fd2949c5825679a6e1b6ac45b956177\n",
            "  Building wheel for pycurl (setup.py) ... \u001b[?25l\u001b[?25hdone\n",
            "  Created wheel for pycurl: filename=pycurl-7.43.0.5-cp36-cp36m-linux_x86_64.whl size=283550 sha256=1bad6fd651da2b2543f67ba85e9012276d0ce3c509d71dd73dc82cb014804a27\n",
            "  Stored in directory: /root/.cache/pip/wheels/98/a3/19/9439c79b88a742f508af0c4e410ae3f685db2e13d3374e798e\n",
            "Successfully built transax pycurl\n",
            "Installing collected packages: pycurl, transax\n",
            "Successfully installed pycurl-7.43.0.5 transax-1.0\n"
          ],
          "name": "stdout"
        }
      ]
    },
    {
      "cell_type": "code",
      "metadata": {
        "id": "ZOEIX4pqW7u6",
        "colab_type": "code",
        "outputId": "4f5c0e0d-7336-44e5-84e9-2e92e4aa7647",
        "colab": {
          "base_uri": "https://localhost:8080/",
          "height": 35
        }
      },
      "source": [
        "import cplex\n",
        "from transax.Microgrid import Microgrid\n",
        "from transax.MatchingSolver import Offer, MatchingSolver\n",
        "microgrid = Microgrid(interval_length=1.0, C_ext=20.0, C_int=25.0, feeders=[0, 1], prosumer_feeder={\n",
        "    0: 0,\n",
        "    1: 0,\n",
        "    2: 0,\n",
        "    3: 1,\n",
        "    4: 1,\n",
        "    5: 1\n",
        "  })\n",
        "solver = MatchingSolver(microgrid)\n",
        "buying_offers = [\n",
        "  Offer(0, 0, 1, 10, 5, 1),\n",
        "  Offer(1, 1, 6, 15, 5, 1),\n",
        "  Offer(2, 3, 1, 10, 5, 1),\n",
        "  Offer(3, 4, 6, 15, 5, 1),\n",
        "]\n",
        "selling_offers = [\n",
        "  Offer(4, 2, 1, 15, 15, 1),\n",
        "  Offer(5, 5, 1, 15, 5, 1),\n",
        "]\n",
        "(trades, objective) = solver.solve(buying_offers=buying_offers, selling_offers=selling_offers)\n",
        "print(\"Success: {} energy traded\".format(objective))"
      ],
      "execution_count": 7,
      "outputs": [
        {
          "output_type": "stream",
          "text": [
            "Success: 20.0 energy traded\n"
          ],
          "name": "stdout"
        }
      ]
    }
  ]
}