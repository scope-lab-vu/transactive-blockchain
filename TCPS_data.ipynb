{
  "nbformat": 4,
  "nbformat_minor": 0,
  "metadata": {
    "colab": {
      "name": "TCPS_data.ipynb",
      "provenance": [],
      "include_colab_link": true
    },
    "kernelspec": {
      "name": "python3",
      "display_name": "Python 3"
    }
  },
  "cells": [
    {
      "cell_type": "markdown",
      "metadata": {
        "id": "view-in-github",
        "colab_type": "text"
      },
      "source": [
        "<a href=\"https://colab.research.google.com/github/scope-lab-vu/transactive-blockchain/blob/master/TCPS_data.ipynb\" target=\"_parent\"><img src=\"https://colab.research.google.com/assets/colab-badge.svg\" alt=\"Open In Colab\"/></a>"
      ]
    },
    {
      "cell_type": "markdown",
      "metadata": {
        "id": "neAYkqYYkAMB",
        "colab_type": "text"
      },
      "source": [
        "These commands set up git large file storage. Not sure if we need it, so they are commented out for now."
      ]
    },
    {
      "cell_type": "code",
      "metadata": {
        "id": "dLz8kaeMhFP6",
        "colab_type": "code",
        "colab": {}
      },
      "source": [
        "# ! curl -s https://packagecloud.io/install/repositories/github/git-lfs/script.deb.sh | sudo bash"
      ],
      "execution_count": 0,
      "outputs": []
    },
    {
      "cell_type": "code",
      "metadata": {
        "id": "f0stVTTuhG28",
        "colab_type": "code",
        "colab": {}
      },
      "source": [
        "# ! wget https://github.com/git-lfs/git-lfs/releases/download/v2.10.0/git-lfs-linux-amd64-v2.10.0.tar.gz"
      ],
      "execution_count": 0,
      "outputs": []
    },
    {
      "cell_type": "code",
      "metadata": {
        "id": "5i-1JZ_thVJA",
        "colab_type": "code",
        "colab": {}
      },
      "source": [
        "# ! tar -xvf git-lfs-linux-amd64-v2.10.0.tar.gz ; chmod +X install.sh ; ./install.sh "
      ],
      "execution_count": 0,
      "outputs": []
    },
    {
      "cell_type": "markdown",
      "metadata": {
        "id": "MWycRuTBkLmW",
        "colab_type": "text"
      },
      "source": [
        "Make cplex installer executable. Expects it to be in base of your google drive"
      ]
    },
    {
      "cell_type": "code",
      "metadata": {
        "id": "ZZQAif81GAQE",
        "colab_type": "code",
        "colab": {
          "base_uri": "https://localhost:8080/",
          "height": 35
        },
        "outputId": "ac506cae-e764-44e2-8ad1-3352d08ffc94"
      },
      "source": [
        "! chmod +x drive/My\\ Drive/cplex_studio129.linux-x86-64.bin"
      ],
      "execution_count": 20,
      "outputs": [
        {
          "output_type": "stream",
          "text": [
            "chmod: cannot access 'drive/My Drive/cplex_studio129.linux-x86-64.bin': No such file or directory\n"
          ],
          "name": "stdout"
        }
      ]
    },
    {
      "cell_type": "markdown",
      "metadata": {
        "id": "LL1ywi7lkWQA",
        "colab_type": "text"
      },
      "source": [
        "silent install. expects ```installer.properties``` to be in base of google drive"
      ]
    },
    {
      "cell_type": "code",
      "metadata": {
        "id": "5m2PY6ygXPG6",
        "colab_type": "code",
        "outputId": "711864ed-2145-4f1d-c0ba-d1a87c879da5",
        "colab": {
          "base_uri": "https://localhost:8080/",
          "height": 160
        }
      },
      "source": [
        "%%capture\n",
        "! ./drive/My\\ Drive/cplex_studio129.linux-x86-64.bin -f \"installer.properties\""
      ],
      "execution_count": 0,
      "outputs": [
        {
          "output_type": "stream",
          "text": [
            "Preparing to install\n",
            "Extracting the JRE from the installer archive...\n",
            "Unpacking the JRE...\n",
            "Extracting the installation resources from the installer archive...\n",
            "Configuring the installer for this system's environment...\n",
            "\n",
            "Launching installer...\n",
            "\n"
          ],
          "name": "stdout"
        }
      ]
    },
    {
      "cell_type": "markdown",
      "metadata": {
        "id": "b8pL5tBSkteW",
        "colab_type": "text"
      },
      "source": [
        "install python binding for cplex"
      ]
    },
    {
      "cell_type": "code",
      "metadata": {
        "id": "H6UgyF_0PSLW",
        "colab_type": "code",
        "colab": {}
      },
      "source": [
        "%%capture\n",
        "! cd /opt/ibm/ILOG/CPLEX_Studio129/python/ ; python3 setup.py install;"
      ],
      "execution_count": 0,
      "outputs": []
    },
    {
      "cell_type": "code",
      "metadata": {
        "id": "jA3w7cFotl83",
        "colab_type": "code",
        "outputId": "8dfad88b-3f93-4293-da74-10ba5e7af2e3",
        "colab": {
          "base_uri": "https://localhost:8080/",
          "height": 196
        }
      },
      "source": [
        "from getpass import getpass\n",
        "import os\n",
        "\n",
        "user = getpass('GitHub User')\n",
        "password = getpass('GitHub password')\n",
        "os.environ['GITHUB_AUTH'] = user + ':' + password\n",
        "\n",
        "!git clone https://$GITHUB_AUTH@github.com/scope-lab-vu/transactive-blockchain.git\n",
        "os.chdir('transactive-blockchain/transax')\n",
        "!sudo pip3 install ."
      ],
      "execution_count": 12,
      "outputs": [
        {
          "output_type": "stream",
          "text": [
            "GitHub User··········\n",
            "GitHub password··········\n",
            "Cloning into 'transactive-blockchain'...\n",
            "remote: Enumerating objects: 16, done.\u001b[K\n",
            "remote: Counting objects: 100% (16/16), done.\u001b[K\n",
            "remote: Compressing objects: 100% (15/15), done.\u001b[K\n",
            "remote: Total 4756 (delta 6), reused 4 (delta 1), pack-reused 4740\u001b[K\n",
            "Receiving objects: 100% (4756/4756), 139.48 MiB | 28.29 MiB/s, done.\n",
            "Resolving deltas: 100% (2174/2174), done.\n",
            "Checking out files: 100% (2097/2097), done.\n"
          ],
          "name": "stdout"
        }
      ]
    },
    {
      "cell_type": "code",
      "metadata": {
        "id": "ZOEIX4pqW7u6",
        "colab_type": "code",
        "colab": {
          "base_uri": "https://localhost:8080/",
          "height": 533
        },
        "outputId": "47cd21c9-0332-454f-c58b-b45e8b0cc6dd"
      },
      "source": [
        "from transax.Microgrid import Microgrid\n",
        "from transax.MatchingSolver import Offer, MatchingSolver\n",
        "microgrid = Microgrid(interval_length=1.0, C_ext=20.0, C_int=25.0, feeders=[0, 1], prosumer_feeder={\n",
        "    0: 0,\n",
        "    1: 0,\n",
        "    2: 0,\n",
        "    3: 1,\n",
        "    4: 1,\n",
        "    5: 1\n",
        "  })\n",
        "solver = MatchingSolver(microgrid)\n",
        "buying_offers = [\n",
        "  Offer(0, 0, 1, 10, 5),\n",
        "  Offer(1, 1, 6, 15, 5),\n",
        "  Offer(2, 3, 1, 10, 5),\n",
        "  Offer(3, 4, 6, 15, 5),\n",
        "]\n",
        "selling_offers = [\n",
        "  Offer(4, 2, 1, 15, 15),\n",
        "  Offer(5, 5, 1, 15, 5),\n",
        "]\n",
        "(trades, objective) = solver.solve(buying_offers=buying_offers, selling_offers=selling_offers)\n",
        "print(\"Success: {} energy traded\".format(objective))"
      ],
      "execution_count": 16,
      "outputs": [
        {
          "output_type": "error",
          "ename": "ModuleNotFoundError",
          "evalue": "ignored",
          "traceback": [
            "\u001b[0;31m---------------------------------------------------------------------------\u001b[0m",
            "\u001b[0;31mModuleNotFoundError\u001b[0m                       Traceback (most recent call last)",
            "\u001b[0;32m<ipython-input-16-f092598bbb40>\u001b[0m in \u001b[0;36m<module>\u001b[0;34m()\u001b[0m\n\u001b[1;32m      1\u001b[0m \u001b[0;32mfrom\u001b[0m \u001b[0mtransax\u001b[0m\u001b[0;34m.\u001b[0m\u001b[0mMicrogrid\u001b[0m \u001b[0;32mimport\u001b[0m \u001b[0mMicrogrid\u001b[0m\u001b[0;34m\u001b[0m\u001b[0;34m\u001b[0m\u001b[0m\n\u001b[0;32m----> 2\u001b[0;31m \u001b[0;32mfrom\u001b[0m \u001b[0mtransax\u001b[0m\u001b[0;34m.\u001b[0m\u001b[0mMatchingSolver\u001b[0m \u001b[0;32mimport\u001b[0m \u001b[0mOffer\u001b[0m\u001b[0;34m,\u001b[0m \u001b[0mMatchingSolver\u001b[0m\u001b[0;34m\u001b[0m\u001b[0;34m\u001b[0m\u001b[0m\n\u001b[0m\u001b[1;32m      3\u001b[0m microgrid = Microgrid(interval_length=1.0, C_ext=20.0, C_int=25.0, feeders=[0, 1], prosumer_feeder={\n\u001b[1;32m      4\u001b[0m     \u001b[0;36m0\u001b[0m\u001b[0;34m:\u001b[0m \u001b[0;36m0\u001b[0m\u001b[0;34m,\u001b[0m\u001b[0;34m\u001b[0m\u001b[0;34m\u001b[0m\u001b[0m\n\u001b[1;32m      5\u001b[0m     \u001b[0;36m1\u001b[0m\u001b[0;34m:\u001b[0m \u001b[0;36m0\u001b[0m\u001b[0;34m,\u001b[0m\u001b[0;34m\u001b[0m\u001b[0;34m\u001b[0m\u001b[0m\n",
            "\u001b[0;32m/content/sample_data/transactive-blockchain/transax/transax/MatchingSolver.py\u001b[0m in \u001b[0;36m<module>\u001b[0;34m()\u001b[0m\n\u001b[1;32m      2\u001b[0m \u001b[0;34m\u001b[0m\u001b[0m\n\u001b[1;32m      3\u001b[0m \u001b[0;32mfrom\u001b[0m \u001b[0mtransax\u001b[0m\u001b[0;34m.\u001b[0m\u001b[0mMicrogrid\u001b[0m \u001b[0;32mimport\u001b[0m \u001b[0mMicrogrid\u001b[0m\u001b[0;34m\u001b[0m\u001b[0;34m\u001b[0m\u001b[0m\n\u001b[0;32m----> 4\u001b[0;31m \u001b[0;32mfrom\u001b[0m \u001b[0mtransax\u001b[0m\u001b[0;34m.\u001b[0m\u001b[0mLinearProgramCplex\u001b[0m \u001b[0;32mimport\u001b[0m \u001b[0mLinearProgramCplex\u001b[0m\u001b[0;34m\u001b[0m\u001b[0;34m\u001b[0m\u001b[0m\n\u001b[0m\u001b[1;32m      5\u001b[0m \u001b[0;34m\u001b[0m\u001b[0m\n\u001b[1;32m      6\u001b[0m \u001b[0;31m# from Microgrid import Microgrid\u001b[0m\u001b[0;34m\u001b[0m\u001b[0;34m\u001b[0m\u001b[0;34m\u001b[0m\u001b[0m\n",
            "\u001b[0;32m/content/sample_data/transactive-blockchain/transax/transax/LinearProgramCplex.py\u001b[0m in \u001b[0;36m<module>\u001b[0;34m()\u001b[0m\n\u001b[1;32m      4\u001b[0m \u001b[0;32mfrom\u001b[0m \u001b[0mtransax\u001b[0m\u001b[0;34m.\u001b[0m\u001b[0mLinearProgram\u001b[0m \u001b[0;32mimport\u001b[0m \u001b[0mLinearProgram\u001b[0m\u001b[0;34m\u001b[0m\u001b[0;34m\u001b[0m\u001b[0m\n\u001b[1;32m      5\u001b[0m \u001b[0;34m\u001b[0m\u001b[0m\n\u001b[0;32m----> 6\u001b[0;31m \u001b[0;32mimport\u001b[0m \u001b[0mcplex\u001b[0m \u001b[0;32mas\u001b[0m \u001b[0mcplex\u001b[0m\u001b[0;34m\u001b[0m\u001b[0;34m\u001b[0m\u001b[0m\n\u001b[0m\u001b[1;32m      7\u001b[0m \u001b[0;31m# from LinearProgram import LinearProgram\u001b[0m\u001b[0;34m\u001b[0m\u001b[0;34m\u001b[0m\u001b[0;34m\u001b[0m\u001b[0m\n\u001b[1;32m      8\u001b[0m \u001b[0;34m\u001b[0m\u001b[0m\n",
            "\u001b[0;31mModuleNotFoundError\u001b[0m: No module named 'cplex'",
            "",
            "\u001b[0;31m---------------------------------------------------------------------------\u001b[0;32m\nNOTE: If your import is failing due to a missing package, you can\nmanually install dependencies using either !pip or !apt.\n\nTo view examples of installing some common dependencies, click the\n\"Open Examples\" button below.\n\u001b[0;31m---------------------------------------------------------------------------\u001b[0m\n"
          ]
        }
      ]
    }
  ]
}