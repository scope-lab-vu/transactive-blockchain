{
  "nbformat": 4,
  "nbformat_minor": 0,
  "metadata": {
    "colab": {
      "name": "TCPS_data.ipynb",
      "provenance": [],
      "include_colab_link": true
    },
    "kernelspec": {
      "name": "python3",
      "display_name": "Python 3"
    }
  },
  "cells": [
    {
      "cell_type": "markdown",
      "metadata": {
        "id": "view-in-github",
        "colab_type": "text"
      },
      "source": [
        "<a href=\"https://colab.research.google.com/github/scope-lab-vu/transactive-blockchain/blob/master/TCPS_data.ipynb\" target=\"_parent\"><img src=\"https://colab.research.google.com/assets/colab-badge.svg\" alt=\"Open In Colab\"/></a>"
      ]
    },
    {
      "cell_type": "markdown",
      "metadata": {
        "id": "neAYkqYYkAMB",
        "colab_type": "text"
      },
      "source": [
        "To make this notebook work in Colab, the following must be done:\n",
        "\n",
        "  1. The Cplex binary installer needs to be uploaded to your Google Drive in a directory named 'ColabLibraries'\n",
        "  2. Prosumer offer data should be uploaded into a directory named 'profiles'"
      ]
    },
    {
      "cell_type": "markdown",
      "metadata": {
        "id": "0EiV1fCj-UlB",
        "colab_type": "text"
      },
      "source": [
        "Mount Google Drive to access installation files"
      ]
    },
    {
      "cell_type": "code",
      "metadata": {
        "id": "R07Fir5u6bNR",
        "colab_type": "code",
        "outputId": "4a5aa5f5-2c2b-4f03-c864-74d75a05d4f6",
        "colab": {
          "base_uri": "https://localhost:8080/",
          "height": 36
        }
      },
      "source": [
        "from google.colab import drive\n",
        "drive.mount('/content/gdrive')"
      ],
      "execution_count": 1,
      "outputs": [
        {
          "output_type": "stream",
          "text": [
            "Drive already mounted at /content/gdrive; to attempt to forcibly remount, call drive.mount(\"/content/gdrive\", force_remount=True).\n"
          ],
          "name": "stdout"
        }
      ]
    },
    {
      "cell_type": "markdown",
      "metadata": {
        "id": "K7dJoeGq-Z77",
        "colab_type": "text"
      },
      "source": [
        "Install cplex from Google Drive. installer.properties included in directory for silent install"
      ]
    },
    {
      "cell_type": "code",
      "metadata": {
        "id": "wT5iseL5-emF",
        "colab_type": "code",
        "outputId": "cecc2b05-6ab5-4a9d-ac59-44127bae1d0f",
        "colab": {
          "base_uri": "https://localhost:8080/",
          "height": 166
        }
      },
      "source": [
        "! chmod u+x /content/gdrive/My\\ Drive/ColabLibraries/cplex_studio129.linux-x86-64.bin\n",
        "\n",
        "!/content/gdrive/My\\ Drive/ColabLibraries/cplex_studio129.linux-x86-64.bin -f \"installer.properties\"\n"
      ],
      "execution_count": 2,
      "outputs": [
        {
          "output_type": "stream",
          "text": [
            "Preparing to install\n",
            "Extracting the JRE from the installer archive...\n",
            "Unpacking the JRE...\n",
            "Extracting the installation resources from the installer archive...\n",
            "Configuring the installer for this system's environment...\n",
            "\n",
            "Launching installer...\n",
            "\n"
          ],
          "name": "stdout"
        }
      ]
    },
    {
      "cell_type": "markdown",
      "metadata": {
        "id": "G29_4xvRSW28",
        "colab_type": "text"
      },
      "source": [
        "Install cplex python binaries"
      ]
    },
    {
      "cell_type": "code",
      "metadata": {
        "id": "abFCyfAn-qX-",
        "colab_type": "code",
        "colab": {}
      },
      "source": [
        "%%capture\n",
        "! cd /opt/ibm/ILOG/CPLEX_Studio129/python/; python3 setup.py install;"
      ],
      "execution_count": 0,
      "outputs": []
    },
    {
      "cell_type": "markdown",
      "metadata": {
        "id": "Kttz1EBCSbaS",
        "colab_type": "text"
      },
      "source": [
        "Clone transax repo"
      ]
    },
    {
      "cell_type": "code",
      "metadata": {
        "id": "jA3w7cFotl83",
        "colab_type": "code",
        "outputId": "4f072d95-6784-491d-e76e-55a51be2fd5f",
        "colab": {
          "base_uri": "https://localhost:8080/",
          "height": 73
        }
      },
      "source": [
        "from getpass import getpass\n",
        "import os\n",
        "\n",
        "user = getpass('GitHub User')\n",
        "password = getpass('GitHub password')\n",
        "os.environ['GITHUB_AUTH'] = user + ':' + password\n",
        "\n",
        "!git clone https://$GITHUB_AUTH@github.com/scope-lab-vu/transactive-blockchain.git\n"
      ],
      "execution_count": 4,
      "outputs": [
        {
          "output_type": "stream",
          "text": [
            "GitHub User··········\n",
            "GitHub password··········\n",
            "fatal: destination path 'transactive-blockchain' already exists and is not an empty directory.\n"
          ],
          "name": "stdout"
        }
      ]
    },
    {
      "cell_type": "markdown",
      "metadata": {
        "id": "HAanJbMy-xsh",
        "colab_type": "text"
      },
      "source": [
        "Install transax library"
      ]
    },
    {
      "cell_type": "code",
      "metadata": {
        "id": "-SDoJKEiStfg",
        "colab_type": "code",
        "colab": {}
      },
      "source": [
        "%%capture\n",
        "! cd /content/transactive-blockchain/transax; sudo pip3 install ."
      ],
      "execution_count": 0,
      "outputs": []
    },
    {
      "cell_type": "markdown",
      "metadata": {
        "id": "qx2-UbqB8tH4",
        "colab_type": "text"
      },
      "source": [
        "Set up the microgrid and the solver"
      ]
    },
    {
      "cell_type": "code",
      "metadata": {
        "id": "ZOEIX4pqW7u6",
        "colab_type": "code",
        "colab": {}
      },
      "source": [
        "import cplex\n",
        "from transax.Microgrid import Microgrid\n",
        "from transax.MatchingSolver import Offer, MatchingSolver\n",
        "microgrid = Microgrid(interval_length=1.0, C_ext=25000, C_int=250000, feeders=[0], prosumer_feeder={\n",
        "    101: 0,\n",
        "    102: 0,\n",
        "    103: 0,\n",
        "    104: 0,\n",
        "    105: 0,\n",
        "    201: 0,\n",
        "    202: 0,\n",
        "    203: 0,\n",
        "    204: 0,\n",
        "    207: 0,\n",
        "    301: 0,\n",
        "    302: 0,\n",
        "    303: 0,\n",
        "    304: 0,\n",
        "    305: 0,\n",
        "  })\n",
        "solver = MatchingSolver(microgrid)"
      ],
      "execution_count": 0,
      "outputs": []
    },
    {
      "cell_type": "markdown",
      "metadata": {
        "id": "0Mh276s78vCk",
        "colab_type": "text"
      },
      "source": [
        "Build a dictionary of all the prosumer offers"
      ]
    },
    {
      "cell_type": "code",
      "metadata": {
        "id": "iGV7Yni-tHJs",
        "colab_type": "code",
        "colab": {}
      },
      "source": [
        "import pandas as pd\n",
        "import numpy as np\n",
        "prosumer_df = {}\n",
        "directory = os.fsencode('/content/gdrive/My Drive/profiles')\n",
        "for file in os.listdir(directory):\n",
        "  filename = os.fsdecode(file)\n",
        "  prosumer_id = int(filename.split('_')[1].split('.')[0])\n",
        "  prosumer_df[prosumer_id] = pd.read_csv('/content/gdrive/My Drive/profiles/' + filename)\n"
      ],
      "execution_count": 0,
      "outputs": []
    },
    {
      "cell_type": "markdown",
      "metadata": {
        "id": "iId3b39Z82DC",
        "colab_type": "text"
      },
      "source": [
        "Create lists for buying and selling offers, also determine total energy on the grid. Consumption is represented with positive values, production is represented with negative values."
      ]
    },
    {
      "cell_type": "code",
      "metadata": {
        "id": "mlcU2sPh8cP-",
        "colab_type": "code",
        "colab": {}
      },
      "source": [
        "buying_offers = []\n",
        "selling_offers = []\n",
        "total_energy = 0\n",
        "for key, prosumer in prosumer_df.items():\n",
        "  for row in prosumer.iterrows():\n",
        "      startTime = int(row[1]['startTime'])\n",
        "      endTime = int(row[1]['endTime'])\n",
        "      energy = float(row[1]['energy'])\n",
        "      total_energy = total_energy + energy\n",
        "      offer = Offer(key, key, startTime, endTime, np.abs(energy), 1)\n",
        "      if energy < 0:\n",
        "        buying_offers.append(offer)\n",
        "      elif energy > 0:\n",
        "        selling_offers.append(offer)"
      ],
      "execution_count": 0,
      "outputs": []
    },
    {
      "cell_type": "markdown",
      "metadata": {
        "id": "Ahcggt2Xe_Na",
        "colab_type": "text"
      },
      "source": [
        "Determine total energy traded after all offers have been matched"
      ]
    },
    {
      "cell_type": "code",
      "metadata": {
        "id": "Fk8DEPtg0Oxh",
        "colab_type": "code",
        "outputId": "b9366116-4c99-4d6c-dc3b-2ec056e19da6",
        "colab": {
          "base_uri": "https://localhost:8080/",
          "height": 36
        }
      },
      "source": [
        "(trades, objective) = solver.solve(buying_offers=buying_offers, selling_offers=selling_offers)\n",
        "print(\"Success: {} energy traded\".format(objective))"
      ],
      "execution_count": 9,
      "outputs": [
        {
          "output_type": "stream",
          "text": [
            "Success: 765.8317905248687 energy traded\n"
          ],
          "name": "stdout"
        }
      ]
    },
    {
      "cell_type": "markdown",
      "metadata": {
        "id": "ZGYE87kie9un",
        "colab_type": "text"
      },
      "source": [
        "Case 1: All prosumers produce/consume exactly what they offered. Find total demand on DSO.\n",
        "\n"
      ]
    },
    {
      "cell_type": "code",
      "metadata": {
        "id": "RFZAANuR9XYO",
        "colab_type": "code",
        "outputId": "93f8ca76-cb93-4319-ac2c-5ceb7454146f",
        "colab": {
          "base_uri": "https://localhost:8080/",
          "height": 36
        }
      },
      "source": [
        "unmet_energy = np.abs(total_energy)-objective\n",
        "print('Prosumers produce as anticipated. Load on DSO: {}'.format(unmet_energy))"
      ],
      "execution_count": 10,
      "outputs": [
        {
          "output_type": "stream",
          "text": [
            "Prosumers produce as anticipated. Load on DSO: 157.58606322981495\n"
          ],
          "name": "stdout"
        }
      ]
    },
    {
      "cell_type": "markdown",
      "metadata": {
        "id": "jrCXTg3ohAbS",
        "colab_type": "text"
      },
      "source": [
        "Case 2: Prosumers' offers are all incorrect by a normal distribution."
      ]
    },
    {
      "cell_type": "code",
      "metadata": {
        "id": "aEfLqYzFErSA",
        "colab_type": "code",
        "outputId": "1a8704fd-d391-4602-cfb1-9e59e2536089",
        "colab": {
          "base_uri": "https://localhost:8080/",
          "height": 36
        }
      },
      "source": [
        "total_energy = 0\n",
        "for prosumer in prosumer_df.values():\n",
        "  for row in prosumer.iterrows():\n",
        "      energy = float(row[1]['energy']) + np.random.normal(0,1)\n",
        "      total_energy = total_energy + energy\n",
        "\n",
        "unmet_energy = np.abs(total_energy)-objective\n",
        "print('Each offer is incorrect by a normal distribution. Load on DSO: {}'.format(unmet_energy))"
      ],
      "execution_count": 11,
      "outputs": [
        {
          "output_type": "stream",
          "text": [
            "Each offer is incorrect by a normal distribution. Load on DSO: 150.7969472803087\n"
          ],
          "name": "stdout"
        }
      ]
    },
    {
      "cell_type": "markdown",
      "metadata": {
        "id": "XOknZ7gzh86x",
        "colab_type": "text"
      },
      "source": [
        "Case 3: Producers consistently overestimate their production ability. (i.e. a cloudy day that was supposed to be clear)"
      ]
    },
    {
      "cell_type": "code",
      "metadata": {
        "id": "ZW7ngOgHFmN0",
        "colab_type": "code",
        "outputId": "02022b30-621b-4292-f34b-1c2a63a48bbd",
        "colab": {
          "base_uri": "https://localhost:8080/",
          "height": 36
        }
      },
      "source": [
        "total_energy = 0\n",
        "for prosumer in prosumer_df.values():\n",
        "  for row in prosumer.iterrows():\n",
        "      energy = float(row[1]['energy'])\n",
        "      if energy > 0:\n",
        "        energy = energy - np.random.exponential(1)\n",
        "      total_energy = total_energy + energy\n",
        "\n",
        "unmet_energy = np.abs(total_energy)-objective\n",
        "print('Producers consistently overestimate production. Load on DSO: {}'.format(unmet_energy))"
      ],
      "execution_count": 61,
      "outputs": [
        {
          "output_type": "stream",
          "text": [
            "Producers consistently overestimate production. Load on DSO: 691.4163237562836\n"
          ],
          "name": "stdout"
        }
      ]
    },
    {
      "cell_type": "markdown",
      "metadata": {
        "id": "DB50n30h6tY8",
        "colab_type": "text"
      },
      "source": [
        "Plot of loss of trading volume vs. offer error\n"
      ]
    },
    {
      "cell_type": "code",
      "metadata": {
        "id": "FtZewP3u7IG4",
        "colab_type": "code",
        "colab": {}
      },
      "source": [
        "perc_errors_norm = [0.05, 0.1 ,0.25, 0.5, 0.75]\n",
        "num_exp = 100\n",
        "total_energy_norm = pd.DataFrame(np.zeros((num_exp, len(perc_errors_norm))))\n",
        "for dfRow in total_energy_norm.iterrows():\n",
        "  for idx, error in enumerate(perc_errors_norm):\n",
        "    for prosumer in prosumer_df.values():\n",
        "      for row in prosumer.iterrows():\n",
        "        energy = float(row[1]['energy'])\n",
        "        energy = energy if energy == 0 else energy + np.random.normal(0,np.abs(error*energy))\n",
        "        dfRow[1].iloc[idx] = dfRow[1].iloc[idx] + energy"
      ],
      "execution_count": 0,
      "outputs": []
    },
    {
      "cell_type": "code",
      "metadata": {
        "id": "pqCKMK6YgImn",
        "colab_type": "code",
        "colab": {}
      },
      "source": [
        "avg_unmet_energy_norm = np.abs(total_energy_norm.mean(axis=0)-objective)\n",
        "trading_loss_norm = np.abs(avg_unmet_energy_norm-avg_unmet_energy_norm.iloc[0])"
      ],
      "execution_count": 0,
      "outputs": []
    },
    {
      "cell_type": "code",
      "metadata": {
        "id": "Kx9t6CRO9g0y",
        "colab_type": "code",
        "colab": {
          "base_uri": "https://localhost:8080/",
          "height": 423
        },
        "outputId": "5019e464-74b8-4f2e-c329-5e18fbccd52d"
      },
      "source": [
        "import matplotlib.pyplot as plt\n",
        "\n",
        "fig = plt.figure(figsize=(12,6))\n",
        "plt.plot(np.multiply(perc_errors_norm,100), trading_loss_norm)\n",
        "plt.xlabel('Percent Error Per Trading Interval')\n",
        "plt.ylabel('Average Trading Loss (kWh)')\n",
        "plt.title('Trading Loss As a Function of Normally Distributed Error')"
      ],
      "execution_count": 111,
      "outputs": [
        {
          "output_type": "execute_result",
          "data": {
            "text/plain": [
              "Text(0.5, 1.0, 'Trading Loss As a Function of Normally Distributed Error')"
            ]
          },
          "metadata": {
            "tags": []
          },
          "execution_count": 111
        },
        {
          "output_type": "display_data",
          "data": {
            "image/png": "[encoded data removed]",
            "text/plain": [
              "<Figure size 864x432 with 1 Axes>"
            ]
          },
          "metadata": {
            "tags": []
          }
        }
      ]
    },
    {
      "cell_type": "code",
      "metadata": {
        "id": "gWxI88V09luO",
        "colab_type": "code",
        "colab": {}
      },
      "source": [
        "perc_errors = [0 ,0.05, 0.1,0.25]\n",
        "num_exp = 10\n",
        "total_energy_exp = pd.DataFrame(np.zeros((num_exp, len(perc_errors))))\n",
        "for dfRow in total_energy_exp.iterrows():\n",
        "  for idx, error in enumerate(perc_errors):\n",
        "    for prosumer in prosumer_df.values():\n",
        "      for row in prosumer.iterrows():\n",
        "        # If prosumer is a producer, reduce the amount that they actually produce\n",
        "        # Beta is created as a percentage of the energy anticipated to be sold in that period\n",
        "          energy = float(row[1]['energy'])\n",
        "          energy = energy if energy < 0 else energy + np.random.exponential(error*energy)\n",
        "          dfRow[1].iloc[idx] = dfRow[1].iloc[idx] + energy"
      ],
      "execution_count": 0,
      "outputs": []
    },
    {
      "cell_type": "code",
      "metadata": {
        "id": "D8JLOuz3fpHB",
        "colab_type": "code",
        "colab": {}
      },
      "source": [
        "avg_unmet_energy_exp = np.abs(total_energy_exp.mean(axis=0)-objective)\n",
        "trading_loss_exp = np.abs(avg_unmet_energy_exp-avg_unmet_energy_exp.iloc[0])"
      ],
      "execution_count": 0,
      "outputs": []
    },
    {
      "cell_type": "code",
      "metadata": {
        "id": "YcuhPRBgGEOv",
        "colab_type": "code",
        "colab": {
          "base_uri": "https://localhost:8080/",
          "height": 423
        },
        "outputId": "5298c127-6760-428e-b9db-d895dd59f41f"
      },
      "source": [
        "fig = plt.figure(figsize=(12,6))\n",
        "plt.plot(np.multiply(perc_errors,100), trading_loss_exp)\n",
        "plt.xlabel('Percent Error Per Trading Interval')\n",
        "plt.ylabel('Average Trading loss (kWh)')\n",
        "plt.title('Trading Loss as a Function of Exponentially Distributed Error')"
      ],
      "execution_count": 114,
      "outputs": [
        {
          "output_type": "execute_result",
          "data": {
            "text/plain": [
              "Text(0.5, 1.0, 'Trading Loss as a Function of Exponentially Distributed Error')"
            ]
          },
          "metadata": {
            "tags": []
          },
          "execution_count": 114
        },
        {
          "output_type": "display_data",
          "data": {
            "image/png": "[encoded data removed]",
            "text/plain": [
              "<Figure size 864x432 with 1 Axes>"
            ]
          },
          "metadata": {
            "tags": []
          }
        }
      ]
    }
  ]
}