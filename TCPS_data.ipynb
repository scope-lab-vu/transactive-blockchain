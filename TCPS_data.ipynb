{
  "nbformat": 4,
  "nbformat_minor": 0,
  "metadata": {
    "colab": {
      "name": "TCPS_data.ipynb",
      "provenance": [],
      "include_colab_link": true
    },
    "kernelspec": {
      "name": "python3",
      "display_name": "Python 3"
    }
  },
  "cells": [
    {
      "cell_type": "markdown",
      "metadata": {
        "id": "view-in-github",
        "colab_type": "text"
      },
      "source": [
        "<a href=\"https://colab.research.google.com/github/scope-lab-vu/transactive-blockchain/blob/master/TCPS_data.ipynb\" target=\"_parent\"><img src=\"https://colab.research.google.com/assets/colab-badge.svg\" alt=\"Open In Colab\"/></a>"
      ]
    },
    {
      "cell_type": "markdown",
      "metadata": {
        "id": "neAYkqYYkAMB",
        "colab_type": "text"
      },
      "source": [
        "To make this notebook work in Colab, the following must be done:\n",
        "\n",
        "  1. The Cplex binary installer needs to be uploaded to your Google Drive in a directory named 'ColabLibraries'\n",
        "  2. Prosumer offer data should be uploaded into a directory named 'profiles'"
      ]
    },
    {
      "cell_type": "code",
      "metadata": {
        "id": "J9985TvvU98g",
        "colab_type": "code",
        "colab": {}
      },
      "source": [
        "import matplotlib.pyplot as plt\n",
        "import pandas as pd\n",
        "import numpy as np\n",
        "from google.colab import drive\n",
        "from getpass import getpass\n",
        "import os"
      ],
      "execution_count": 0,
      "outputs": []
    },
    {
      "cell_type": "markdown",
      "metadata": {
        "id": "0EiV1fCj-UlB",
        "colab_type": "text"
      },
      "source": [
        "Mount Google Drive to access installation files"
      ]
    },
    {
      "cell_type": "code",
      "metadata": {
        "id": "R07Fir5u6bNR",
        "colab_type": "code",
        "outputId": "45599ae2-70d5-4f2c-8609-5c7ccc03d48c",
        "colab": {
          "base_uri": "https://localhost:8080/",
          "height": 35
        }
      },
      "source": [
        "drive.mount('/content/gdrive')"
      ],
      "execution_count": 430,
      "outputs": [
        {
          "output_type": "stream",
          "text": [
            "Drive already mounted at /content/gdrive; to attempt to forcibly remount, call drive.mount(\"/content/gdrive\", force_remount=True).\n"
          ],
          "name": "stdout"
        }
      ]
    },
    {
      "cell_type": "markdown",
      "metadata": {
        "id": "K7dJoeGq-Z77",
        "colab_type": "text"
      },
      "source": [
        "Install cplex from Google Drive. installer.properties included in directory for silent install"
      ]
    },
    {
      "cell_type": "code",
      "metadata": {
        "id": "wT5iseL5-emF",
        "colab_type": "code",
        "outputId": "13f528e2-53b5-41bc-d8af-6e2f80eb7b4c",
        "colab": {
          "base_uri": "https://localhost:8080/",
          "height": 164
        }
      },
      "source": [
        "! chmod u+x /content/gdrive/My\\ Drive/ColabLibraries/cplex_studio129.linux-x86-64.bin\n",
        "\n",
        "!/content/gdrive/My\\ Drive/ColabLibraries/cplex_studio129.linux-x86-64.bin -f \"installer.properties\"\n"
      ],
      "execution_count": 431,
      "outputs": [
        {
          "output_type": "stream",
          "text": [
            "Preparing to install\n",
            "Extracting the JRE from the installer archive...\n",
            "Unpacking the JRE...\n",
            "Extracting the installation resources from the installer archive...\n",
            "Configuring the installer for this system's environment...\n",
            "\n",
            "Launching installer...\n",
            "\n"
          ],
          "name": "stdout"
        }
      ]
    },
    {
      "cell_type": "markdown",
      "metadata": {
        "id": "G29_4xvRSW28",
        "colab_type": "text"
      },
      "source": [
        "Install cplex python binaries"
      ]
    },
    {
      "cell_type": "code",
      "metadata": {
        "id": "abFCyfAn-qX-",
        "colab_type": "code",
        "colab": {}
      },
      "source": [
        "%%capture\n",
        "! cd /opt/ibm/ILOG/CPLEX_Studio129/python/; python3 setup.py install;"
      ],
      "execution_count": 0,
      "outputs": []
    },
    {
      "cell_type": "markdown",
      "metadata": {
        "id": "Kttz1EBCSbaS",
        "colab_type": "text"
      },
      "source": [
        "Clone transax repo"
      ]
    },
    {
      "cell_type": "code",
      "metadata": {
        "id": "jA3w7cFotl83",
        "colab_type": "code",
        "outputId": "cb0054ff-0a22-4de9-8573-fa112e6b2d03",
        "colab": {
          "base_uri": "https://localhost:8080/",
          "height": 72
        }
      },
      "source": [
        "user = getpass('GitHub User')\n",
        "password = getpass('GitHub password')\n",
        "os.environ['GITHUB_AUTH'] = user + ':' + password\n",
        "\n",
        "!git clone https://$GITHUB_AUTH@github.com/scope-lab-vu/transactive-blockchain.git\n"
      ],
      "execution_count": 433,
      "outputs": [
        {
          "output_type": "stream",
          "text": [
            "GitHub User··········\n",
            "GitHub password··········\n",
            "fatal: destination path 'transactive-blockchain' already exists and is not an empty directory.\n"
          ],
          "name": "stdout"
        }
      ]
    },
    {
      "cell_type": "markdown",
      "metadata": {
        "id": "HAanJbMy-xsh",
        "colab_type": "text"
      },
      "source": [
        "Install transax library"
      ]
    },
    {
      "cell_type": "code",
      "metadata": {
        "id": "-SDoJKEiStfg",
        "colab_type": "code",
        "colab": {}
      },
      "source": [
        "%%capture\n",
        "! cd /content/transactive-blockchain/transax; sudo pip3 install ."
      ],
      "execution_count": 0,
      "outputs": []
    },
    {
      "cell_type": "markdown",
      "metadata": {
        "id": "qx2-UbqB8tH4",
        "colab_type": "text"
      },
      "source": [
        "Set up the microgrid and the solver"
      ]
    },
    {
      "cell_type": "code",
      "metadata": {
        "id": "ZOEIX4pqW7u6",
        "colab_type": "code",
        "colab": {}
      },
      "source": [
        "import cplex\n",
        "from transax.Microgrid import Microgrid\n",
        "from transax.MatchingSolver import Offer, MatchingSolver\n",
        "microgrid = Microgrid(interval_length=1.0, C_ext=25000, C_int=250000, feeders=[0], prosumer_feeder={\n",
        "    101: 0,\n",
        "    102: 0,\n",
        "    103: 0,\n",
        "    104: 0,\n",
        "    105: 0,\n",
        "    201: 0,\n",
        "    202: 0,\n",
        "    203: 0,\n",
        "    204: 0,\n",
        "    207: 0,\n",
        "    301: 0,\n",
        "    302: 0,\n",
        "    303: 0,\n",
        "    304: 0,\n",
        "    305: 0,\n",
        "  })\n",
        "solver = MatchingSolver(microgrid)"
      ],
      "execution_count": 0,
      "outputs": []
    },
    {
      "cell_type": "markdown",
      "metadata": {
        "id": "0Mh276s78vCk",
        "colab_type": "text"
      },
      "source": [
        "Build a dictionary of all the prosumer offers"
      ]
    },
    {
      "cell_type": "code",
      "metadata": {
        "id": "iGV7Yni-tHJs",
        "colab_type": "code",
        "colab": {}
      },
      "source": [
        "prosumer_df = {}\n",
        "directory = os.fsencode('/content/gdrive/My Drive/profiles')\n",
        "for file in os.listdir(directory):\n",
        "  filename = os.fsdecode(file)\n",
        "  prosumer_id = int(filename.split('_')[1].split('.')[0])\n",
        "  prosumer_df[prosumer_id] = pd.read_csv('/content/gdrive/My Drive/profiles/' + filename)\n",
        "  # Convert units from kW to kWh \n",
        "  prosumer_df[prosumer_id]['energy'] = prosumer_df[prosumer_id]['energy']*0.25\n"
      ],
      "execution_count": 0,
      "outputs": []
    },
    {
      "cell_type": "markdown",
      "metadata": {
        "id": "iId3b39Z82DC",
        "colab_type": "text"
      },
      "source": [
        "Create lists for buying and selling offers, also determine total energy on the grid. Consumption is represented with positive values, production is represented with negative values."
      ]
    },
    {
      "cell_type": "code",
      "metadata": {
        "id": "mlcU2sPh8cP-",
        "colab_type": "code",
        "colab": {}
      },
      "source": [
        "buying_offers = []\n",
        "selling_offers = []\n",
        "total_energy = 0\n",
        "for key, prosumer in prosumer_df.items():\n",
        "  for row in prosumer.iterrows():\n",
        "      startTime = int(row[1]['startTime'])\n",
        "      endTime = int(row[1]['endTime'])\n",
        "      energy = float(row[1]['energy'])\n",
        "      total_energy = total_energy + energy\n",
        "      offer = Offer(key, key, startTime, endTime, np.abs(energy), 1)\n",
        "      if energy < 0:\n",
        "        buying_offers.append(offer)\n",
        "      elif energy > 0:\n",
        "        selling_offers.append(offer)"
      ],
      "execution_count": 0,
      "outputs": []
    },
    {
      "cell_type": "markdown",
      "metadata": {
        "id": "Ahcggt2Xe_Na",
        "colab_type": "text"
      },
      "source": [
        "Determine total energy traded after all offers have been matched"
      ]
    },
    {
      "cell_type": "code",
      "metadata": {
        "id": "Fk8DEPtg0Oxh",
        "colab_type": "code",
        "outputId": "ea1b98d2-632b-423a-d566-32c1cdc16b46",
        "colab": {
          "base_uri": "https://localhost:8080/",
          "height": 35
        }
      },
      "source": [
        "(trades, objective) = solver.solve(buying_offers=buying_offers, selling_offers=selling_offers)\n",
        "print(\"Success: {} energy traded\".format(objective))"
      ],
      "execution_count": 538,
      "outputs": [
        {
          "output_type": "stream",
          "text": [
            "Success: 191.45794763121717 energy traded\n"
          ],
          "name": "stdout"
        }
      ]
    },
    {
      "cell_type": "markdown",
      "metadata": {
        "id": "ZGYE87kie9un",
        "colab_type": "text"
      },
      "source": [
        "Case 1: All prosumers produce/consume exactly what they offered. Find total demand on DSO.\n",
        "\n"
      ]
    },
    {
      "cell_type": "code",
      "metadata": {
        "id": "RFZAANuR9XYO",
        "colab_type": "code",
        "outputId": "f50d4d92-e10b-49b6-d4b8-35efa649f80f",
        "colab": {
          "base_uri": "https://localhost:8080/",
          "height": 35
        }
      },
      "source": [
        "unmet_energy = np.abs(total_energy)-objective\n",
        "print('Prosumers produce as anticipated. Load on DSO: {}'.format(unmet_energy))"
      ],
      "execution_count": 539,
      "outputs": [
        {
          "output_type": "stream",
          "text": [
            "Prosumers produce as anticipated. Load on DSO: 39.39651580745374\n"
          ],
          "name": "stdout"
        }
      ]
    },
    {
      "cell_type": "markdown",
      "metadata": {
        "id": "jrCXTg3ohAbS",
        "colab_type": "text"
      },
      "source": [
        "Case 2: Prosumers' offers are all incorrect by a normal distribution."
      ]
    },
    {
      "cell_type": "code",
      "metadata": {
        "id": "aEfLqYzFErSA",
        "colab_type": "code",
        "outputId": "a550e20b-c409-4c62-c884-96f068f96218",
        "colab": {
          "base_uri": "https://localhost:8080/",
          "height": 35
        }
      },
      "source": [
        "total_energy = 0\n",
        "for prosumer in prosumer_df.values():\n",
        "  for row in prosumer.iterrows():\n",
        "      energy = float(row[1]['energy']) + np.random.normal(0,1)\n",
        "      total_energy = total_energy + energy\n",
        "\n",
        "unmet_energy = np.abs(total_energy)-objective\n",
        "print('Each offer is incorrect by a normal distribution. Load on DSO: {}'.format(unmet_energy))"
      ],
      "execution_count": 540,
      "outputs": [
        {
          "output_type": "stream",
          "text": [
            "Each offer is incorrect by a normal distribution. Load on DSO: 32.17956808170544\n"
          ],
          "name": "stdout"
        }
      ]
    },
    {
      "cell_type": "markdown",
      "metadata": {
        "id": "XOknZ7gzh86x",
        "colab_type": "text"
      },
      "source": [
        "Case 3: Producers consistently overestimate their production ability. (i.e. a cloudy day that was supposed to be clear)"
      ]
    },
    {
      "cell_type": "code",
      "metadata": {
        "id": "ZW7ngOgHFmN0",
        "colab_type": "code",
        "outputId": "c4acdcb3-287d-4099-f611-d1e480a2c470",
        "colab": {
          "base_uri": "https://localhost:8080/",
          "height": 35
        }
      },
      "source": [
        "total_energy = 0\n",
        "for prosumer in prosumer_df.values():\n",
        "  for row in prosumer.iterrows():\n",
        "      energy = float(row[1]['energy'])\n",
        "      if energy > 0:\n",
        "        energy = energy - np.random.exponential(1)\n",
        "      total_energy = total_energy + energy\n",
        "\n",
        "unmet_energy = np.abs(total_energy)-objective\n",
        "print('Producers consistently overestimate production. Load on DSO: {}'.format(unmet_energy))"
      ],
      "execution_count": 541,
      "outputs": [
        {
          "output_type": "stream",
          "text": [
            "Producers consistently overestimate production. Load on DSO: 632.5006920973552\n"
          ],
          "name": "stdout"
        }
      ]
    },
    {
      "cell_type": "markdown",
      "metadata": {
        "id": "DB50n30h6tY8",
        "colab_type": "text"
      },
      "source": [
        "Plot of loss of trading volume vs. offer error\n"
      ]
    },
    {
      "cell_type": "code",
      "metadata": {
        "id": "ZzivWNk_WjEP",
        "colab_type": "code",
        "colab": {}
      },
      "source": [
        "num_exp = 100\n",
        "perc_errors_norm = np.array([0,0.05, 0.1 ,0.15, 0.2, 0.25, .3,.35])\n",
        "prosumer_production = np.zeros((len(perc_errors_norm)))\n",
        "total_production = np.zeros((num_exp,len(perc_errors_norm)))\n",
        "for prosumer in prosumer_df.values():\n",
        "    energy_col = prosumer['energy']\n",
        "    length = len(energy_col)\n",
        "    st_dev = np.multiply(perc_errors_norm,np.abs(energy_col).max())\n",
        "    for idx in range(num_exp):\n",
        "      energy_with_errors =  energy_col.values.reshape(length,1) + np.random.normal(0,st_dev,(length,len(perc_errors_norm)))\n",
        "      prosumer_production = np.sum(energy_with_errors, axis = 0)\n",
        "      total_production[idx,:] = total_production[idx,:] + prosumer_production"
      ],
      "execution_count": 0,
      "outputs": []
    },
    {
      "cell_type": "code",
      "metadata": {
        "id": "CjvV8ZlQhwBu",
        "colab_type": "code",
        "colab": {}
      },
      "source": [
        "total_production_avg = np.mean(total_production,axis=0)\n",
        "total_production_std = np.std(total_production,axis=0)\n",
        "trading_loss = total_production_avg-total_production_avg[0]"
      ],
      "execution_count": 0,
      "outputs": []
    },
    {
      "cell_type": "code",
      "metadata": {
        "id": "v4xUlbpOii7n",
        "colab_type": "code",
        "outputId": "8252902e-a3cd-4db6-8393-15dd0de0987b",
        "colab": {
          "base_uri": "https://localhost:8080/",
          "height": 422
        }
      },
      "source": [
        "fig = plt.figure(figsize=(12,6))\n",
        "plt.errorbar(np.multiply(perc_errors_norm,100), trading_loss.flatten(),yerr = total_production_std)\n",
        "plt.xlabel('Percent Error Per Trading Interval')\n",
        "plt.ylabel('Unmet Trades (kWh)')\n",
        "plt.title('Trading Loss as a Function of Normally Distributed Error')"
      ],
      "execution_count": 544,
      "outputs": [
        {
          "output_type": "execute_result",
          "data": {
            "text/plain": [
              "Text(0.5, 1.0, 'Trading Loss as a Function of Normally Distributed Error')"
            ]
          },
          "metadata": {
            "tags": []
          },
          "execution_count": 544
        },
        {
          "output_type": "display_data",
          "data": {
            "image/png": "[encoded data removed]",
            "text/plain": [
              "<Figure size 864x432 with 1 Axes>"
            ]
          },
          "metadata": {
            "tags": []
          }
        }
      ]
    },
    {
      "cell_type": "code",
      "metadata": {
        "id": "TBm3b6RGVsD2",
        "colab_type": "code",
        "colab": {}
      },
      "source": [
        "csv_out = pd.DataFrame({'prod_avg': total_production_avg, 'prod_std': total_production_std, 'unmet_trades': trading_loss}, index= np.multiply(perc_errors_norm,100))\n",
        "csv_out.index.name='offer_perc_error'"
      ],
      "execution_count": 0,
      "outputs": []
    },
    {
      "cell_type": "code",
      "metadata": {
        "id": "QikOOvOrWPAT",
        "colab_type": "code",
        "colab": {}
      },
      "source": [
        "csv_out.to_csv('/content/gdrive/My Drive/output/uncertainty.csv')"
      ],
      "execution_count": 0,
      "outputs": []
    },
    {
      "cell_type": "code",
      "metadata": {
        "id": "OgJRqt7oZdEx",
        "colab_type": "code",
        "colab": {}
      },
      "source": [
        ""
      ],
      "execution_count": 0,
      "outputs": []
    }
  ]
}