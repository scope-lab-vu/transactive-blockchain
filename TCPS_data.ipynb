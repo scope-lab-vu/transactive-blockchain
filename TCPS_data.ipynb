{
  "nbformat": 4,
  "nbformat_minor": 0,
  "metadata": {
    "colab": {
      "name": "TCPS_data.ipynb",
      "provenance": [],
      "toc_visible": true,
      "mount_file_id": "https://github.com/scope-lab-vu/transactive-blockchain/blob/master/TCPS_data.ipynb",
      "authorship_tag": "ABX9TyMxyn4DOcejgc9XhL6iFofp",
      "include_colab_link": true
    },
    "kernelspec": {
      "name": "python3",
      "display_name": "Python 3"
    }
  },
  "cells": [
    {
      "cell_type": "markdown",
      "metadata": {
        "id": "view-in-github",
        "colab_type": "text"
      },
      "source": [
        "<a href=\"https://colab.research.google.com/github/scope-lab-vu/transactive-blockchain/blob/master/TCPS_data.ipynb\" target=\"_parent\"><img src=\"https://colab.research.google.com/assets/colab-badge.svg\" alt=\"Open In Colab\"/></a>"
      ]
    },
    {
      "cell_type": "markdown",
      "metadata": {
        "id": "neAYkqYYkAMB",
        "colab_type": "text"
      },
      "source": [
        "These commands set up git large file storage. Not sure if we need it, so they are commented out for now."
      ]
    },
    {
      "cell_type": "code",
      "metadata": {
        "id": "dLz8kaeMhFP6",
        "colab_type": "code",
        "colab": {}
      },
      "source": [
        "# ! curl -s https://packagecloud.io/install/repositories/github/git-lfs/script.deb.sh | sudo bash"
      ],
      "execution_count": 0,
      "outputs": []
    },
    {
      "cell_type": "code",
      "metadata": {
        "id": "f0stVTTuhG28",
        "colab_type": "code",
        "colab": {}
      },
      "source": [
        "# ! wget https://github.com/git-lfs/git-lfs/releases/download/v2.10.0/git-lfs-linux-amd64-v2.10.0.tar.gz"
      ],
      "execution_count": 0,
      "outputs": []
    },
    {
      "cell_type": "code",
      "metadata": {
        "id": "5i-1JZ_thVJA",
        "colab_type": "code",
        "colab": {}
      },
      "source": [
        "# ! tar -xvf git-lfs-linux-amd64-v2.10.0.tar.gz ; chmod +X install.sh ; ./install.sh "
      ],
      "execution_count": 0,
      "outputs": []
    },
    {
      "cell_type": "markdown",
      "metadata": {
        "id": "MWycRuTBkLmW",
        "colab_type": "text"
      },
      "source": [
        "Make cplex installer executable. Expects it to be in base of your google drive"
      ]
    },
    {
      "cell_type": "code",
      "metadata": {
        "id": "ZZQAif81GAQE",
        "colab_type": "code",
        "colab": {}
      },
      "source": [
        "! chmod +x drive/My\\ Drive/cplex_studio129.linux-x86-64.bin"
      ],
      "execution_count": 0,
      "outputs": []
    },
    {
      "cell_type": "markdown",
      "metadata": {
        "id": "LL1ywi7lkWQA",
        "colab_type": "text"
      },
      "source": [
        "silent install. expects ```installer.properties``` to be in base of google drive"
      ]
    },
    {
      "cell_type": "code",
      "metadata": {
        "id": "5m2PY6ygXPG6",
        "colab_type": "code",
        "colab": {
          "base_uri": "https://localhost:8080/",
          "height": 160
        },
        "outputId": "711864ed-2145-4f1d-c0ba-d1a87c879da5"
      },
      "source": [
        "%%capture\n",
        "! ./drive/My\\ Drive/cplex_studio129.linux-x86-64.bin -f \"installer.properties\""
      ],
      "execution_count": 40,
      "outputs": [
        {
          "output_type": "stream",
          "text": [
            "Preparing to install\n",
            "Extracting the JRE from the installer archive...\n",
            "Unpacking the JRE...\n",
            "Extracting the installation resources from the installer archive...\n",
            "Configuring the installer for this system's environment...\n",
            "\n",
            "Launching installer...\n",
            "\n"
          ],
          "name": "stdout"
        }
      ]
    },
    {
      "cell_type": "markdown",
      "metadata": {
        "id": "b8pL5tBSkteW",
        "colab_type": "text"
      },
      "source": [
        "install python binding for cplex"
      ]
    },
    {
      "cell_type": "code",
      "metadata": {
        "id": "H6UgyF_0PSLW",
        "colab_type": "code",
        "colab": {}
      },
      "source": [
        "%%capture\n",
        "! cd /opt/ibm/ILOG/CPLEX_Studio129/python/ ; python3 setup.py install;"
      ],
      "execution_count": 0,
      "outputs": []
    },
    {
      "cell_type": "code",
      "metadata": {
        "id": "xNMV-pV1VLwU",
        "colab_type": "code",
        "colab": {}
      },
      "source": [
        "import cplex"
      ],
      "execution_count": 0,
      "outputs": []
    }
  ]
}